{
 "cells": [
  {
   "cell_type": "markdown",
   "id": "c1d9bcb3-5424-48d5-9b29-b52ab09d1ffa",
   "metadata": {
    "tags": []
   },
   "source": [
    "# Mask On, Mask Off: Using CNNs for Facial Mask Detection"
   ]
  },
  {
   "cell_type": "code",
   "execution_count": 34,
   "id": "7bba85d4",
   "metadata": {},
   "outputs": [],
   "source": [
    "import pandas as pd\n",
    "import numpy as np\n",
    "import matplotlib.pyplot as plt\n",
    "\n",
    "from glob import glob\n",
    "import os\n",
    "import cv2\n",
    "\n",
    "\n",
    "from sklearn.model_selection import train_test_split\n",
    "from sklearn.metrics import classification_report,confusion_matrix\n",
    "\n",
    "from tensorflow.keras.preprocessing.image import ImageDataGenerator\n",
    "from tensorflow.keras.layers import Conv2D, Dense, Dropout, MaxPool2D, Flatten\n",
    "from tensorflow.keras.models import Sequential\n",
    "from keras.optimizers import Adam\n",
    "from tensorflow.keras.utils import to_categorical\n",
    "\n",
    "\n",
    "from tensorflow.keras.losses import BinaryCrossentropy"
   ]
  },
  {
   "cell_type": "code",
   "execution_count": 35,
   "id": "c14933b5-8866-4ddb-add8-4e48c620ef44",
   "metadata": {},
   "outputs": [
    {
     "name": "stdout",
     "output_type": "stream",
     "text": [
      "C:\\Users\\ingri\\OneDrive\\SynergisticPython\\Mask_CNN\n",
      "['.ipynb_checkpoints', 'Data', 'DL CNN Mask No Mask.ipynb', 'Mask+Classification.ipynb', 'Masks', 'No Masks', 'Open CV Mask.ipynb', 'path', 'Untitled.ipynb']\n"
     ]
    }
   ],
   "source": [
    "print(os.getcwd())\n",
    "#os.getcwd()\n",
    "print(os.listdir(os.getcwd()))"
   ]
  },
  {
   "cell_type": "code",
   "execution_count": null,
   "id": "cf7288f0-1e1b-4b3e-95d4-d27f0b01f9be",
   "metadata": {},
   "outputs": [],
   "source": []
  },
  {
   "cell_type": "code",
   "execution_count": 36,
   "id": "7285521b",
   "metadata": {},
   "outputs": [],
   "source": [
    "mask_path =\"C:\\\\Users\\\\ingri\\\\OneDrive\\\\SynergisticPython\\\\Mask_CNN\"\n",
    "no_mask_path=\"C:\\\\Users\\\\ingri\\\\OneDrive\\\\SynergisticPython\\\\Mask_CNN\""
   ]
  },
  {
   "cell_type": "code",
   "execution_count": 37,
   "id": "84acc3dd-c2ca-42e5-b9ce-90761d77bee3",
   "metadata": {},
   "outputs": [],
   "source": [
    "mask_files = glob(\"Masks/**/*.png\", recursive=True)\n",
    "notmask_files = glob(\"No Masks/**/*.png\", recursive=True)"
   ]
  },
  {
   "cell_type": "code",
   "execution_count": 38,
   "id": "a35a506c",
   "metadata": {},
   "outputs": [],
   "source": [
    "#mask_files = glob(\"Mask_CNN/Masks/**/*.png\", recursive=True)\n",
    "#notmask_files = glob(\"Mask_CNN/No Masks/**/*.png\", recursive=True)"
   ]
  },
  {
   "cell_type": "code",
   "execution_count": 39,
   "id": "8476754b",
   "metadata": {},
   "outputs": [
    {
     "data": {
      "text/plain": [
       "27"
      ]
     },
     "execution_count": 39,
     "metadata": {},
     "output_type": "execute_result"
    }
   ],
   "source": [
    "len(mask_files)"
   ]
  },
  {
   "cell_type": "code",
   "execution_count": 40,
   "id": "a3ee8d1e",
   "metadata": {},
   "outputs": [
    {
     "data": {
      "text/plain": [
       "26"
      ]
     },
     "execution_count": 40,
     "metadata": {},
     "output_type": "execute_result"
    }
   ],
   "source": [
    "len(notmask_files)"
   ]
  },
  {
   "cell_type": "code",
   "execution_count": 41,
   "id": "76364da9",
   "metadata": {},
   "outputs": [],
   "source": [
    "img = cv2.imread(mask_files[2])\n",
    "#img = cv2.imread(mask_files)"
   ]
  },
  {
   "cell_type": "code",
   "execution_count": 42,
   "id": "b663c13e",
   "metadata": {},
   "outputs": [
    {
     "data": {
      "text/plain": [
       "(211, 270, 3)"
      ]
     },
     "execution_count": 42,
     "metadata": {},
     "output_type": "execute_result"
    }
   ],
   "source": [
    "img.shape"
   ]
  },
  {
   "cell_type": "code",
   "execution_count": 43,
   "id": "8e07016b",
   "metadata": {},
   "outputs": [],
   "source": [
    "#imgs_dir = \"Mask_CNN/\""
   ]
  },
  {
   "cell_type": "code",
   "execution_count": 44,
   "id": "d9fc0e19-77c7-4726-8ec7-ccfd38bed62a",
   "metadata": {},
   "outputs": [],
   "source": [
    "imgs_dir = mask_path"
   ]
  },
  {
   "cell_type": "code",
   "execution_count": 45,
   "id": "f6376d26-9370-4d61-8ab8-a78c6586af73",
   "metadata": {},
   "outputs": [
    {
     "data": {
      "text/plain": [
       "['.ipynb_checkpoints',\n",
       " 'Data',\n",
       " 'DL CNN Mask No Mask.ipynb',\n",
       " 'Mask+Classification.ipynb',\n",
       " 'Masks',\n",
       " 'No Masks',\n",
       " 'Open CV Mask.ipynb',\n",
       " 'path',\n",
       " 'Untitled.ipynb']"
      ]
     },
     "execution_count": 45,
     "metadata": {},
     "output_type": "execute_result"
    }
   ],
   "source": [
    "os.listdir(imgs_dir)"
   ]
  },
  {
   "cell_type": "code",
   "execution_count": 46,
   "id": "3493d12a",
   "metadata": {},
   "outputs": [],
   "source": [
    "data_gen = ImageDataGenerator(horizontal_flip=True, validation_split=.2)"
   ]
  },
  {
   "cell_type": "code",
   "execution_count": null,
   "id": "38db0af2-8621-49a3-abed-ac254856aeba",
   "metadata": {},
   "outputs": [],
   "source": []
  },
  {
   "cell_type": "code",
   "execution_count": 47,
   "id": "8ea31f67",
   "metadata": {},
   "outputs": [
    {
     "name": "stdout",
     "output_type": "stream",
     "text": [
      "Found 43 images belonging to 2 classes.\n"
     ]
    }
   ],
   "source": [
    "# flow_from_directory to load the images and labels\n",
    "training_data = data_gen.flow_from_directory(imgs_dir,\n",
    "                                             classes=[\"Masks\", \"No Masks\"], \n",
    "                                             batch_size=4, shuffle=True, subset= \"training\")\n"
   ]
  },
  {
   "cell_type": "code",
   "execution_count": 48,
   "id": "b39636fb",
   "metadata": {},
   "outputs": [
    {
     "name": "stdout",
     "output_type": "stream",
     "text": [
      "Found 10 images belonging to 2 classes.\n"
     ]
    }
   ],
   "source": [
    "validation_data = data_gen.flow_from_directory(imgs_dir,\n",
    "                                             classes=[\"Masks\", \"No Masks\"], \n",
    "                                             batch_size=4, shuffle=True, subset=\"validation\")"
   ]
  },
  {
   "cell_type": "code",
   "execution_count": 49,
   "id": "244984fb",
   "metadata": {},
   "outputs": [
    {
     "data": {
      "text/plain": [
       "{'Masks': 0, 'No Masks': 1}"
      ]
     },
     "execution_count": 49,
     "metadata": {},
     "output_type": "execute_result"
    }
   ],
   "source": [
    "training_data.class_indices"
   ]
  },
  {
   "cell_type": "code",
   "execution_count": 50,
   "id": "7c8da9ee",
   "metadata": {},
   "outputs": [],
   "source": [
    "# training_data.filepaths"
   ]
  },
  {
   "cell_type": "code",
   "execution_count": 51,
   "id": "ead76a4a",
   "metadata": {},
   "outputs": [],
   "source": [
    "# training_data.filenames"
   ]
  },
  {
   "cell_type": "code",
   "execution_count": 52,
   "id": "016150b9",
   "metadata": {},
   "outputs": [],
   "source": [
    "# X = next(training_data)"
   ]
  },
  {
   "cell_type": "code",
   "execution_count": 53,
   "id": "0378977b",
   "metadata": {},
   "outputs": [],
   "source": [
    "\n",
    "cnn = Sequential()\n",
    "cnn.add(Conv2D(filters=4,#feature detection from image \n",
    "                               kernel_size=3,\n",
    "                               activation='relu',\n",
    "                               input_shape=[256,256,3]))\n",
    "cnn.add(MaxPool2D(pool_size=2, strides=2))\n",
    "cnn.add(Dropout(.25))\n",
    "cnn.add(Flatten())\n",
    "cnn.add(Dense(128, activation=\"relu\"))\n",
    "cnn.add(Dense(2, activation=\"sigmoid\"))"
   ]
  },
  {
   "cell_type": "code",
   "execution_count": 54,
   "id": "9939afe9",
   "metadata": {},
   "outputs": [],
   "source": [
    "cnn.compile(optimizer='adam', loss = BinaryCrossentropy(), metrics=['accuracy'])"
   ]
  },
  {
   "cell_type": "code",
   "execution_count": 55,
   "id": "28f32699",
   "metadata": {},
   "outputs": [
    {
     "name": "stdout",
     "output_type": "stream",
     "text": [
      "Model: \"sequential_2\"\n",
      "_________________________________________________________________\n",
      " Layer (type)                Output Shape              Param #   \n",
      "=================================================================\n",
      " conv2d_4 (Conv2D)           (None, 254, 254, 4)       112       \n",
      "                                                                 \n",
      " max_pooling2d_4 (MaxPooling  (None, 127, 127, 4)      0         \n",
      " 2D)                                                             \n",
      "                                                                 \n",
      " dropout_1 (Dropout)         (None, 127, 127, 4)       0         \n",
      "                                                                 \n",
      " flatten_2 (Flatten)         (None, 64516)             0         \n",
      "                                                                 \n",
      " dense_4 (Dense)             (None, 128)               8258176   \n",
      "                                                                 \n",
      " dense_5 (Dense)             (None, 2)                 258       \n",
      "                                                                 \n",
      "=================================================================\n",
      "Total params: 8,258,546\n",
      "Trainable params: 8,258,546\n",
      "Non-trainable params: 0\n",
      "_________________________________________________________________\n"
     ]
    }
   ],
   "source": [
    "cnn.summary()"
   ]
  },
  {
   "cell_type": "code",
   "execution_count": 56,
   "id": "38f380a7",
   "metadata": {},
   "outputs": [
    {
     "name": "stdout",
     "output_type": "stream",
     "text": [
      "Epoch 1/10\n"
     ]
    },
    {
     "name": "stderr",
     "output_type": "stream",
     "text": [
      "C:\\Users\\ingri\\AppData\\Local\\Temp\\ipykernel_2492\\1364443037.py:1: UserWarning: `Model.fit_generator` is deprecated and will be removed in a future version. Please use `Model.fit`, which supports generators.\n",
      "  cnn.fit_generator(training_data, epochs=10, validation_data=validation_data)\n"
     ]
    },
    {
     "name": "stdout",
     "output_type": "stream",
     "text": [
      "11/11 [==============================] - 2s 105ms/step - loss: 2219.6396 - accuracy: 0.6279 - val_loss: 945.6589 - val_accuracy: 0.5000\n",
      "Epoch 2/10\n",
      "11/11 [==============================] - 0s 36ms/step - loss: 424.0676 - accuracy: 0.5814 - val_loss: 209.3960 - val_accuracy: 0.5000\n",
      "Epoch 3/10\n",
      "11/11 [==============================] - 0s 34ms/step - loss: 112.9624 - accuracy: 0.7209 - val_loss: 120.0557 - val_accuracy: 0.5000\n",
      "Epoch 4/10\n",
      "11/11 [==============================] - 0s 35ms/step - loss: 98.7486 - accuracy: 0.6977 - val_loss: 206.9414 - val_accuracy: 0.6000\n",
      "Epoch 5/10\n",
      "11/11 [==============================] - 0s 36ms/step - loss: 68.8251 - accuracy: 0.8140 - val_loss: 136.1632 - val_accuracy: 0.5000\n",
      "Epoch 6/10\n",
      "11/11 [==============================] - 0s 35ms/step - loss: 26.9190 - accuracy: 0.9070 - val_loss: 105.9320 - val_accuracy: 0.5000\n",
      "Epoch 7/10\n",
      "11/11 [==============================] - 0s 35ms/step - loss: 16.4970 - accuracy: 0.9767 - val_loss: 65.5864 - val_accuracy: 0.6000\n",
      "Epoch 8/10\n",
      "11/11 [==============================] - 0s 36ms/step - loss: 26.8665 - accuracy: 0.9302 - val_loss: 33.5189 - val_accuracy: 0.7000\n",
      "Epoch 9/10\n",
      "11/11 [==============================] - 0s 35ms/step - loss: 5.9184 - accuracy: 1.0000 - val_loss: 45.4717 - val_accuracy: 0.5000\n",
      "Epoch 10/10\n",
      "11/11 [==============================] - 0s 34ms/step - loss: 2.0992 - accuracy: 1.0000 - val_loss: 70.6619 - val_accuracy: 0.5000\n"
     ]
    },
    {
     "data": {
      "text/plain": [
       "<keras.callbacks.History at 0x22b5dd00100>"
      ]
     },
     "execution_count": 56,
     "metadata": {},
     "output_type": "execute_result"
    }
   ],
   "source": [
    "cnn.fit_generator(training_data, epochs=7, validation_data=validation_data)"
   ]
  },
  {
   "cell_type": "code",
   "execution_count": 57,
   "id": "9ec5d5fe",
   "metadata": {},
   "outputs": [],
   "source": [
    "history = cnn.history.history"
   ]
  },
  {
   "cell_type": "code",
   "execution_count": 58,
   "id": "c7184666",
   "metadata": {},
   "outputs": [
    {
     "data": {
      "text/plain": [
       "<matplotlib.legend.Legend at 0x22b6751e620>"
      ]
     },
     "execution_count": 58,
     "metadata": {},
     "output_type": "execute_result"
    },
    {
     "data": {
      "image/png": "[encoded data removed]",
      "text/plain": [
       "<Figure size 640x480 with 1 Axes>"
      ]
     },
     "metadata": {},
     "output_type": "display_data"
    }
   ],
   "source": [
    "plt.plot(history[\"loss\"], label = \"Training Loss\")\n",
    "plt.plot(history[\"val_loss\"], label = \"Validation Loss\")\n",
    "plt.legend()"
   ]
  },
  {
   "cell_type": "code",
   "execution_count": 59,
   "id": "8bc1f49c",
   "metadata": {},
   "outputs": [
    {
     "data": {
      "text/plain": [
       "<matplotlib.legend.Legend at 0x22b78f16170>"
      ]
     },
     "execution_count": 59,
     "metadata": {},
     "output_type": "execute_result"
    },
    {
     "data": {
      "image/png": "[encoded data removed]",
      "text/plain": [
       "<Figure size 640x480 with 1 Axes>"
      ]
     },
     "metadata": {},
     "output_type": "display_data"
    }
   ],
   "source": [
    "plt.plot(history[\"accuracy\"], label = \"Training Accuracy\")\n",
    "plt.plot(history[\"val_accuracy\"], label = \"Validation Accuracy\")\n",
    "plt.legend()"
   ]
  },
  {
   "cell_type": "code",
   "execution_count": null,
   "id": "de0b458e",
   "metadata": {},
   "outputs": [],
   "source": []
  },
  {
   "cell_type": "code",
   "execution_count": 60,
   "id": "eeee0081-0b9c-4075-9e43-7ca17b0fe9ca",
   "metadata": {},
   "outputs": [],
   "source": [
    "import tensorflow as tf\n",
    "from tensorflow.keras.callbacks import ModelCheckpoint"
   ]
  },
  {
   "cell_type": "code",
   "execution_count": 61,
   "id": "f35378a5-afe4-48cd-8fc8-c2156c6706d7",
   "metadata": {},
   "outputs": [],
   "source": [
    "filepath = 'checkpoint folder callback'\n",
    "checkpoint = ModelCheckpoint(filepath,\n",
    "                            monitor='val_accuracy',\n",
    "                            verbose=1,\n",
    "                            save_best_only=True,\n",
    "                            mode='max')\n",
    "callbacks_list = [checkpoint]"
   ]
  },
  {
   "cell_type": "code",
   "execution_count": 62,
   "id": "54d941b2-dace-4090-a1fe-cf9b3677e5d2",
   "metadata": {},
   "outputs": [],
   "source": [
    "cnn = Sequential()\n",
    "cnn.add(Conv2D(filters=32,#feature detection from image \n",
    "                               kernel_size=3,\n",
    "                               activation='relu',\n",
    "                               input_shape=[256,256,3]))\n",
    "\n",
    "cnn.add(tf.keras.layers.MaxPool2D(pool_size=2, strides=2))\n",
    "cnn.add(tf.keras.layers.Conv2D(filters=32, kernel_size=3, activation='relu',padding=\"same\"))\n",
    "\n",
    "cnn.add(tf.keras.layers.MaxPool2D(pool_size=2, strides=2))\n",
    "\n",
    "cnn.add(tf.keras.layers.Conv2D(filters=128, kernel_size=3, activation='relu',padding=\"same\"))\n",
    "cnn.add(tf.keras.layers.MaxPool2D(pool_size=2, strides=2))\n",
    "\n",
    "cnn.add(tf.keras.layers.Flatten()) # converts it to ANN modeling cnn 4d ann 2d rnn 3d rs=t =2d\n",
    "cnn.add(tf.keras.layers.Dense(units=128, activation='relu'))\n",
    "cnn.add(tf.keras.layers.Dense(units=2, activation='sigmoid'))"
   ]
  },
  {
   "cell_type": "markdown",
   "id": "6f51e589-629a-4a74-a4f1-5857e758a33f",
   "metadata": {},
   "source": [
    "\n",
    "cnn = Sequential()\n",
    "cnn.add(Conv2D(filters=32,#feature detection from image \n",
    "                               kernel_size=3,\n",
    "                               activation='relu',\n",
    "                               input_shape=[256,256,3]))\n",
    "\n",
    "cnn.add(tf.keras.layers.MaxPool2D(pool_size=2, strides=2))\n",
    "cnn.add(tf.keras.layers.BatchNormalization())\n",
    "cnn.add(tf.keras.layers.Conv2D(filters=32, kernel_size=3, activation='relu',padding=\"same\"))\n",
    "\n",
    "cnn.add(tf.keras.layers.MaxPool2D(pool_size=2, strides=2))\n",
    "\n",
    "cnn.add(tf.keras.layers.Conv2D(filters=128, kernel_size=3, activation='relu',padding=\"same\"))\n",
    "cnn.add(tf.keras.layers.BatchNormalization())\n",
    "cnn.add(tf.keras.layers.MaxPool2D(pool_size=2, strides=2))\n",
    "\n",
    "cnn.add(tf.keras.layers.Flatten()) # converts it to ANN modeling cnn 4d ann 2d rnn 3d rs=t =2d\n",
    "cnn.add(tf.keras.layers.Dense(units=128, activation='relu'))\n",
    "cnn.add(tf.keras.layers.Dense(units=2, activation='sigmoid'))"
   ]
  },
  {
   "cell_type": "code",
   "execution_count": 63,
   "id": "8648b05b-b701-421a-9532-7303941bc88c",
   "metadata": {},
   "outputs": [],
   "source": [
    "cnn.compile(optimizer='adam', loss = BinaryCrossentropy(), metrics=['accuracy'])"
   ]
  },
  {
   "cell_type": "code",
   "execution_count": null,
   "id": "b75d99d6-0b3a-47f7-b3ca-0b668d3f5c73",
   "metadata": {},
   "outputs": [],
   "source": []
  },
  {
   "cell_type": "code",
   "execution_count": 64,
   "id": "0dc3dbea-6940-48ee-b161-938915eecce8",
   "metadata": {},
   "outputs": [
    {
     "name": "stdout",
     "output_type": "stream",
     "text": [
      "Epoch 1/7\n"
     ]
    },
    {
     "name": "stderr",
     "output_type": "stream",
     "text": [
      "C:\\Users\\ingri\\AppData\\Local\\Temp\\ipykernel_2492\\3143432401.py:1: UserWarning: `Model.fit_generator` is deprecated and will be removed in a future version. Please use `Model.fit`, which supports generators.\n",
      "  cnn.fit_generator(training_data, epochs=7, validation_data=validation_data)\n"
     ]
    },
    {
     "name": "stdout",
     "output_type": "stream",
     "text": [
      "11/11 [==============================] - 2s 115ms/step - loss: 312.3522 - accuracy: 0.5814 - val_loss: 8.7058 - val_accuracy: 0.5000\n",
      "Epoch 2/7\n",
      "11/11 [==============================] - 1s 95ms/step - loss: 3.2077 - accuracy: 0.6047 - val_loss: 1.1883 - val_accuracy: 0.8000\n",
      "Epoch 3/7\n",
      "11/11 [==============================] - 1s 108ms/step - loss: 1.4669 - accuracy: 0.6977 - val_loss: 1.1313 - val_accuracy: 0.7000\n",
      "Epoch 4/7\n",
      "11/11 [==============================] - 1s 94ms/step - loss: 0.4951 - accuracy: 0.8605 - val_loss: 0.9114 - val_accuracy: 0.6000\n",
      "Epoch 5/7\n",
      "11/11 [==============================] - 1s 101ms/step - loss: 0.2433 - accuracy: 0.9767 - val_loss: 0.7055 - val_accuracy: 0.8000\n",
      "Epoch 6/7\n",
      "11/11 [==============================] - 1s 82ms/step - loss: 0.2086 - accuracy: 0.9535 - val_loss: 1.1605 - val_accuracy: 0.6000\n",
      "Epoch 7/7\n",
      "11/11 [==============================] - 1s 82ms/step - loss: 0.2556 - accuracy: 0.9535 - val_loss: 0.5739 - val_accuracy: 0.8000\n"
     ]
    },
    {
     "data": {
      "text/plain": [
       "<keras.callbacks.History at 0x22b6738feb0>"
      ]
     },
     "execution_count": 64,
     "metadata": {},
     "output_type": "execute_result"
    }
   ],
   "source": [
    "cnn.fit_generator(training_data, epochs=7, validation_data=validation_data)"
   ]
  },
  {
   "cell_type": "code",
   "execution_count": 32,
   "id": "dedd9f50",
   "metadata": {},
   "outputs": [],
   "source": [
    "# X = next(training_data)"
   ]
  },
  {
   "cell_type": "code",
   "execution_count": 33,
   "id": "f380690c",
   "metadata": {},
   "outputs": [],
   "source": [
    "# X[0].shape"
   ]
  },
  {
   "cell_type": "code",
   "execution_count": null,
   "id": "a0916a58",
   "metadata": {},
   "outputs": [],
   "source": []
  }
 ],
 "metadata": {
  "kernelspec": {
   "display_name": "Python 3 (ipykernel)",
   "language": "python",
   "name": "python3"
  },
  "language_info": {
   "codemirror_mode": {
    "name": "ipython",
    "version": 3
   },
   "file_extension": ".py",
   "mimetype": "text/x-python",
   "name": "python",
   "nbconvert_exporter": "python",
   "pygments_lexer": "ipython3",
   "version": "3.11.1"
  }
 },
 "nbformat": 4,
 "nbformat_minor": 5
}
