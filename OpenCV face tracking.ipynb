{
 "cells": [
  {
   "cell_type": "markdown",
   "id": "ffe0a632-3554-4598-8390-4786cb20485e",
   "metadata": {},
   "source": [
    "### Open CV 2\n",
    "\n",
    "# Facial Tracking"
   ]
  },
  {
   "cell_type": "code",
   "execution_count": 1,
   "id": "b6a112c7-9f22-4c80-bc89-0c94dd012518",
   "metadata": {},
   "outputs": [],
   "source": [
    "import tensorflow as tf\n",
    "import cv2 as cv\n",
    "import pandas as pd\n",
    "import numpy as np\n",
    "from __future__ import print_function\n",
    "import argparse\n",
    "import os"
   ]
  },
  {
   "cell_type": "markdown",
   "id": "105e5c83-d51e-4e28-98fa-2d3b3026b7ca",
   "metadata": {},
   "source": [
    "\n",
    "https://towardsdatascience.com/face-detection-in-2-minutes-using-opencv-python-90f89d7c0f81"
   ]
  },
  {
   "cell_type": "code",
   "execution_count": 2,
   "id": "041898c6-c9c8-4114-a6de-244f7d793461",
   "metadata": {},
   "outputs": [
    {
     "name": "stdout",
     "output_type": "stream",
     "text": [
      "C:\\Users\\ingri\\OneDrive\\SynergisticPython\n"
     ]
    }
   ],
   "source": [
    "print(os.getcwd())\n",
    "#os.getcwd()\n",
    "#print(os.listdir(os.getcwd()))"
   ]
  },
  {
   "cell_type": "code",
   "execution_count": 3,
   "id": "44c15a57-b2eb-45ab-acd1-7c4fc01b8458",
   "metadata": {},
   "outputs": [],
   "source": [
    "os.chdir(\"C:\\\\Users\\\\ingri\\\\OneDrive\\\\SynergisticPython\\\\face_tracker\")"
   ]
  },
  {
   "cell_type": "code",
   "execution_count": 4,
   "id": "6c01fd25-ae53-4878-82ca-f5ee0926c34d",
   "metadata": {},
   "outputs": [
    {
     "name": "stdout",
     "output_type": "stream",
     "text": [
      "['.ipynb_checkpoints', 'desktop.ini', 'faces', 'haarcascade_eye_tree_eyeglasses.xml', 'haarcascade_frontalface_default.xml', 'not_faces', 'OpenCV Face Recognition.ipynb', 'test.jpeg']\n"
     ]
    }
   ],
   "source": [
    "print(os.listdir(os.getcwd()))"
   ]
  },
  {
   "cell_type": "markdown",
   "id": "047d4514-179e-417c-9711-075bda433946",
   "metadata": {},
   "source": [
    "### Pt. 1"
   ]
  },
  {
   "cell_type": "code",
   "execution_count": 5,
   "id": "40703f3c-a8c0-40cd-8c89-35c36337073e",
   "metadata": {},
   "outputs": [],
   "source": [
    "# Load the cascade\n",
    "face_cascade = cv.CascadeClassifier('haarcascade_frontalface_default.xml')"
   ]
  },
  {
   "cell_type": "code",
   "execution_count": 6,
   "id": "926e7466-518b-4a1f-9121-adc348871e44",
   "metadata": {},
   "outputs": [],
   "source": [
    "# Read the image\n",
    "img = cv.imread('test.jpeg')\n"
   ]
  },
  {
   "cell_type": "code",
   "execution_count": 7,
   "id": "5ba22684-28b8-4523-a71c-4b4b8a053a4d",
   "metadata": {},
   "outputs": [
    {
     "data": {
      "text/plain": [
       "array([[[242, 244, 245],\n",
       "        [242, 244, 245],\n",
       "        [242, 244, 245],\n",
       "        ...,\n",
       "        [253, 255, 255],\n",
       "        [253, 255, 255],\n",
       "        [253, 255, 255]],\n",
       "\n",
       "       [[242, 244, 245],\n",
       "        [242, 244, 245],\n",
       "        [242, 244, 245],\n",
       "        ...,\n",
       "        [253, 255, 255],\n",
       "        [253, 255, 255],\n",
       "        [253, 255, 255]],\n",
       "\n",
       "       [[242, 244, 245],\n",
       "        [242, 244, 245],\n",
       "        [242, 244, 245],\n",
       "        ...,\n",
       "        [253, 255, 255],\n",
       "        [253, 255, 255],\n",
       "        [253, 255, 255]],\n",
       "\n",
       "       ...,\n",
       "\n",
       "       [[ 28,  75, 143],\n",
       "        [ 28,  73, 141],\n",
       "        [ 30,  73, 140],\n",
       "        ...,\n",
       "        [ 79,  99, 147],\n",
       "        [ 96, 125, 176],\n",
       "        [107, 143, 197]],\n",
       "\n",
       "       [[ 35,  80, 148],\n",
       "        [ 31,  76, 143],\n",
       "        [ 30,  73, 140],\n",
       "        ...,\n",
       "        [ 84, 104, 152],\n",
       "        [101, 130, 181],\n",
       "        [110, 146, 200]],\n",
       "\n",
       "       [[ 35,  80, 147],\n",
       "        [ 33,  76, 143],\n",
       "        [ 31,  73, 140],\n",
       "        ...,\n",
       "        [ 84, 104, 152],\n",
       "        [101, 130, 181],\n",
       "        [110, 146, 200]]], dtype=uint8)"
      ]
     },
     "execution_count": 7,
     "metadata": {},
     "output_type": "execute_result"
    }
   ],
   "source": [
    "img"
   ]
  },
  {
   "cell_type": "code",
   "execution_count": 8,
   "id": "c493701c-c4c6-4d6a-b2c3-8544b0951914",
   "metadata": {},
   "outputs": [],
   "source": [
    "#cv.imshow('image',img)"
   ]
  },
  {
   "cell_type": "code",
   "execution_count": 9,
   "id": "62282ea9-d187-4626-98da-97e2bf33c1a8",
   "metadata": {},
   "outputs": [],
   "source": [
    "# Convert into grayscale\n",
    "gray = cv.cvtColor(img, cv.COLOR_BGR2GRAY)"
   ]
  },
  {
   "cell_type": "code",
   "execution_count": 10,
   "id": "d39454e8-99af-4c34-ad80-8549696a8da2",
   "metadata": {},
   "outputs": [],
   "source": [
    "# Detect faces\n",
    "faces = face_cascade.detectMultiScale(gray, 1.1, 4)"
   ]
  },
  {
   "cell_type": "code",
   "execution_count": 11,
   "id": "65ad1fea-551f-4014-bcac-8099ccbd2f6a",
   "metadata": {},
   "outputs": [],
   "source": [
    "# Draw rectangle around the faces\n",
    "for (x, y, w, h) in faces:\n",
    "    cv.rectangle(img, (x, y), (x+w, y+h), (255, 0, 0), 2)"
   ]
  },
  {
   "cell_type": "code",
   "execution_count": null,
   "id": "4841f16b-7558-48bf-ba11-c015c8559d03",
   "metadata": {},
   "outputs": [],
   "source": [
    "def show_image(image):\n",
    "\n",
    "    cv.imshow('image', image)\n",
    "    print(cv.waitKey(0))\n",
    "    cv.destroyAllWindows()\n",
    "    \n",
    "show_image(img)"
   ]
  },
  {
   "cell_type": "markdown",
   "id": "5cf90ce7-0d80-4097-bc15-dead8d56df93",
   "metadata": {},
   "source": [
    "### Pt. 2"
   ]
  },
  {
   "cell_type": "code",
   "execution_count": null,
   "id": "01a33a67-0862-47ac-bd53-972a59cb250f",
   "metadata": {},
   "outputs": [],
   "source": [
    "# To capture video from webcam. \n",
    "cap = cv.VideoCapture(0)\n",
    "# To use a video file as input \n",
    "# cap = cv2.VideoCapture('filename.mp4')"
   ]
  },
  {
   "cell_type": "code",
   "execution_count": null,
   "id": "e11b6ccc-42e0-4d02-8ad9-2a91d0ffa6c0",
   "metadata": {},
   "outputs": [],
   "source": [
    "while True:\n",
    "    # Read the frame\n",
    "    _, img = cap.read()\n",
    "    # Convert to grayscale\n",
    "    gray = cv.cvtColor(img, cv.COLOR_BGR2GRAY)\n",
    "    # Detect the faces\n",
    "    faces = face_cascade.detectMultiScale(gray, 1.1, 4)\n",
    "    # Draw the rectangle around each face\n",
    "    for (x, y, w, h) in faces:\n",
    "        cv.rectangle(img, (x, y), (x+w, y+h), (255, 0, 0), 2)\n",
    "    # Display\n",
    "    cv.imshow('img', img)\n",
    "    # Stop if escape key is pressed\n",
    "    k = cv.waitKey(30) & 0xff\n",
    "    if k==27:\n",
    "        break\n",
    "# Release the VideoCapture object\n",
    "cap.release()"
   ]
  },
  {
   "cell_type": "code",
   "execution_count": null,
   "id": "b6e807cb-44f5-4d36-ba30-fb3348498d55",
   "metadata": {},
   "outputs": [],
   "source": []
  }
 ],
 "metadata": {
  "kernelspec": {
   "display_name": "Python 3 (ipykernel)",
   "language": "python",
   "name": "python3"
  },
  "language_info": {
   "codemirror_mode": {
    "name": "ipython",
    "version": 3
   },
   "file_extension": ".py",
   "mimetype": "text/x-python",
   "name": "python",
   "nbconvert_exporter": "python",
   "pygments_lexer": "ipython3",
   "version": "3.10.9"
  }
 },
 "nbformat": 4,
 "nbformat_minor": 5
}
