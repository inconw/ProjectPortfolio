{
 "cells": [
  {
   "cell_type": "markdown",
   "id": "d9d770c7-9808-42d7-b502-0a421a2452f1",
   "metadata": {},
   "source": [
    "# Open CV and OCR\n",
    "\n",
    "\n"
   ]
  },
  {
   "cell_type": "code",
   "execution_count": 2,
   "id": "c4f0a2f9-b4bd-484d-9936-643d20fe9b6d",
   "metadata": {
    "tags": []
   },
   "outputs": [],
   "source": [
    "import cv2 as cv\n",
    "import tensorflow as tf\n",
    "import os\n",
    "from PIL import Image\n",
    "import pandas as pd\n",
    "import numpy as np\n",
    "import matplotlib.pyplot as plt\n",
    "import seaborn as sns"
   ]
  },
  {
   "cell_type": "markdown",
   "id": "c90cda85-d0a8-48a6-bb9c-c9d41cae49be",
   "metadata": {},
   "source": [
    "https://docs.opencv.org/4.x/dd/d3b/tutorial_py_svm_opencv.html\n",
    "\n"
   ]
  },
  {
   "cell_type": "code",
   "execution_count": 23,
   "id": "09a32e23-34ba-4e53-81ef-0600083b74e4",
   "metadata": {},
   "outputs": [
    {
     "name": "stdout",
     "output_type": "stream",
     "text": [
      "['.ipynb_checkpoints', 'DL CNN Mask No Mask.ipynb', 'Masks', 'No Masks', 'Untitled.ipynb']\n"
     ]
    }
   ],
   "source": [
    "#print(os.getcwd())\n",
    "#os.getcwd()\n",
    "print(os.listdir(os.getcwd()))"
   ]
  },
  {
   "cell_type": "code",
   "execution_count": 24,
   "id": "3e968246-ecd9-4ff9-829f-1e61bbc093ae",
   "metadata": {},
   "outputs": [],
   "source": [
    "mask_path =\"C:\\\\Users\\\\ingri\\\\OneDrive\\\\SynergisticPython\\\\Mask_CNN\\\\Masks\"\n",
    "no_mask_path=\"C:\\\\Users\\\\ingri\\\\OneDrive\\\\SynergisticPython\\\\Mask_CNN\\\\No Masks\""
   ]
  },
  {
   "cell_type": "code",
   "execution_count": 25,
   "id": "b3ad9b8f-80e3-46f7-837c-af4f37553eb0",
   "metadata": {},
   "outputs": [
    {
     "name": "stdout",
     "output_type": "stream",
     "text": [
      "['.ipynb_checkpoints', 'DL CNN Mask No Mask.ipynb', 'y1', 'y10', 'y11', 'y12', 'y13', 'y14', 'y15', 'y16', 'y17', 'y18', 'y19', 'y2', 'y20', 'y21', 'y22', 'y23', 'y24', 'y25', 'y26', 'y27', 'y3', 'y4', 'y5', 'y6', 'y7', 'y8', 'y9']\n"
     ]
    }
   ],
   "source": [
    "print(os.listdir(mask_path))"
   ]
  },
  {
   "cell_type": "code",
   "execution_count": 26,
   "id": "0cf29e30-01a3-40cc-ab25-99cae93e9f2d",
   "metadata": {},
   "outputs": [],
   "source": [
    "# Import image data\n",
    "\n",
    "mask = cv2.imread(mask_path)\n",
    "no_mask = cv2.imread(no_mask_path)"
   ]
  },
  {
   "cell_type": "markdown",
   "id": "52094604-7c1f-474c-8e56-17a6935df9c2",
   "metadata": {},
   "source": [
    "### Capture Video from Camera"
   ]
  },
  {
   "cell_type": "code",
   "execution_count": null,
   "id": "c75c5f54-afd2-400e-9e30-bfacc3962802",
   "metadata": {
    "tags": []
   },
   "outputs": [],
   "source": [
    "cap = cv.VideoCapture(0)\n",
    "if not cap.isOpened():\n",
    "    print(\"Cannot open camera\")\n",
    "    exit()\n",
    "while True:\n",
    "    # Capture frame-by-frame\n",
    "    ret, frame = cap.read()\n",
    "    # if frame is read correctly ret is True\n",
    "    if not ret:\n",
    "        print(\"Can't receive frame (stream end?). Exiting ...\")\n",
    "        break\n",
    "    # Our operations on the frame come here\n",
    "    gray = cv.cvtColor(frame, cv.COLOR_BGR2GRAY)\n",
    "    # Display the resulting frame\n",
    "    cv.imshow('frame', gray)\n",
    "    if cv.waitKey(1) == ord('q'):\n",
    "        break\n",
    "# When everything done, release the capture\n",
    "cap.release()\n",
    "cv.destroyAllWindows()"
   ]
  },
  {
   "cell_type": "markdown",
   "id": "99f7a7eb-333c-4e3e-b57f-412f3fb2e0c0",
   "metadata": {
    "tags": []
   },
   "source": [
    "## Playing video from file"
   ]
  },
  {
   "cell_type": "code",
   "execution_count": 3,
   "id": "1258661b-0068-4e60-a5fd-8e46f95942ea",
   "metadata": {},
   "outputs": [],
   "source": [
    "\n",
    "cap = cv.VideoCapture('vtest.avi')\n",
    "while cap.isOpened():\n",
    "    ret, frame = cap.read()\n",
    "    # if frame is read correctly ret is True\n",
    "    if not ret:\n",
    "        print(\"Can't receive frame (stream end?). Exiting ...\")\n",
    "        break\n",
    "    gray = cv.cvtColor(frame, cv.COLOR_BGR2GRAY)\n",
    "    cv.imshow('frame', gray)\n",
    "    if cv.waitKey(1) == ord('q'):\n",
    "        break\n",
    "cap.release()\n",
    "cv.destroyAllWindows()"
   ]
  },
  {
   "cell_type": "code",
   "execution_count": null,
   "id": "d1be92a6-6b2f-4117-9802-569a6c494df5",
   "metadata": {},
   "outputs": [],
   "source": []
  }
 ],
 "metadata": {
  "kernelspec": {
   "display_name": "Python 3 (ipykernel)",
   "language": "python",
   "name": "python3"
  },
  "language_info": {
   "codemirror_mode": {
    "name": "ipython",
    "version": 3
   },
   "file_extension": ".py",
   "mimetype": "text/x-python",
   "name": "python",
   "nbconvert_exporter": "python",
   "pygments_lexer": "ipython3",
   "version": "3.11.1"
  }
 },
 "nbformat": 4,
 "nbformat_minor": 5
}
