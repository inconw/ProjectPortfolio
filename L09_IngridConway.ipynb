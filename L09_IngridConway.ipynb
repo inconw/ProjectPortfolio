{
  "nbformat": 4,
  "nbformat_minor": 0,
  "metadata": {
    "kernelspec": {
      "display_name": "Python 3",
      "language": "python",
      "name": "python3"
    },
    "language_info": {
      "codemirror_mode": {
        "name": "ipython",
        "version": 3
      },
      "file_extension": ".py",
      "mimetype": "text/x-python",
      "name": "python",
      "nbconvert_exporter": "python",
      "pygments_lexer": "ipython3",
      "version": "3.7.6"
    },
    "colab": {
      "provenance": [],
      "toc_visible": true,
      "include_colab_link": true
    },
    "accelerator": "GPU"
  },
  "cells": [
    {
      "cell_type": "markdown",
      "metadata": {
        "id": "view-in-github",
        "colab_type": "text"
      },
      "source": [
        "<a href=\"https://colab.research.google.com/github/inconw/ProjectPortfolio/blob/main/L09_IngridConway.ipynb\" target=\"_parent\"><img src=\"https://colab.research.google.com/assets/colab-badge.svg\" alt=\"Open In Colab\"/></a>"
      ]
    },
    {
      "cell_type": "markdown",
      "metadata": {
        "id": "G9L8F8qVCCD2"
      },
      "source": [
        "# Lesson 9\n",
        "## Ingrid Conway\n",
        "### University of Washington - DATASCI 420 CS\n",
        "### Nov 19, 2020\n",
        "\n",
        "For this scenario, we imagine ourselves working for a startup building the next generation search engine. This search engine is to provide the ability to search for images based on the content of them.  We are tasked to build a machine learning model that is able to identify the objects in images. For this project we will use the CIFAR-10 dataset, which consists of 60000 32x32 color images in 10 classes, with 6000 images per class."
      ]
    },
    {
      "cell_type": "code",
      "metadata": {
        "id": "K-ZrBDozCCD_"
      },
      "source": [],
      "execution_count": null,
      "outputs": []
    },
    {
      "cell_type": "code",
      "metadata": {
        "id": "RVhemaqKCCEb"
      },
      "source": [
        "import tarfile\n",
        "import pandas as pd\n",
        "import numpy \n",
        "import matplotlib.pyplot as plt\n",
        "import tensorflow as tf\n",
        "from tensorflow import keras\n",
        "from tensorflow.keras import datasets, layers, models\n",
        "from tensorflow.keras import Sequential, Model\n",
        "from tensorflow.keras.layers import Dense, Input\n",
        "from scipy import ndimage\n",
        "from skimage import transform"
      ],
      "execution_count": null,
      "outputs": []
    },
    {
      "cell_type": "code",
      "metadata": {
        "id": "qHqe8aebCCEw",
        "colab": {
          "base_uri": "https://localhost:8080/"
        },
        "outputId": "7f41fefc-28ef-4b57-e9e1-7601072ee5b7"
      },
      "source": [
        "# enable GPU for neural network training speedup\n",
        "device_name = tf.test.gpu_device_name()\n",
        "if device_name != '/device:GPU:0':\n",
        "  print(\n",
        "      '\\n\\nThis error most likely means that this notebook is not '\n",
        "      'configured to use a GPU.  Change this in Notebook Settings via the '\n",
        "      'command palette (cmd/ctrl-shift-P) or the Edit menu.\\n\\n')\n",
        "  raise SystemError('GPU device not found')\n",
        "print(device_name)\n",
        "\n"
      ],
      "execution_count": null,
      "outputs": [
        {
          "output_type": "stream",
          "text": [
            "/device:GPU:0\n"
          ],
          "name": "stdout"
        }
      ]
    },
    {
      "cell_type": "code",
      "metadata": {
        "id": "2M1tSMn7CCE_"
      },
      "source": [
        "from tensorflow.keras.models import Sequential\n",
        "from tensorflow.keras.layers import Dense,Flatten,Conv2D,Conv3D,MaxPool2D\n",
        "from tensorflow.keras.optimizers import SGD\n",
        "import datetime, os"
      ],
      "execution_count": null,
      "outputs": []
    },
    {
      "cell_type": "code",
      "metadata": {
        "scrolled": true,
        "id": "fxcSgB6gCCFJ",
        "colab": {
          "base_uri": "https://localhost:8080/"
        },
        "outputId": "230d58c9-9fbd-4ddb-ea26-c869f6201b2a"
      },
      "source": [
        "cifar = keras.datasets.cifar10.load_data()\n",
        "\n"
      ],
      "execution_count": null,
      "outputs": [
        {
          "output_type": "stream",
          "text": [
            "Downloading data from https://www.cs.toronto.edu/~kriz/cifar-10-python.tar.gz\n",
            "170500096/170498071 [==============================] - 4s 0us/step\n"
          ],
          "name": "stdout"
        }
      ]
    },
    {
      "cell_type": "code",
      "metadata": {
        "id": "AcybaNrUCCFW"
      },
      "source": [
        "(train_images, train_labels), (test_images, test_labels) = keras.datasets.cifar10.load_data()"
      ],
      "execution_count": null,
      "outputs": []
    },
    {
      "cell_type": "code",
      "metadata": {
        "scrolled": true,
        "id": "Lb6G87TMCCFq",
        "colab": {
          "base_uri": "https://localhost:8080/"
        },
        "outputId": "5430c45c-53c3-4e73-b23e-986ebeac2c6b"
      },
      "source": [
        "print(train_images.shape)\n",
        "# Notice train-labels shape is 2 dimensional.\n",
        "print(train_labels.shape)\n",
        "# Print red channel layer (top left corner) of first image. Notice these are integers between 0 and 255.\n",
        "print(train_images[0, :5, :5, 1])\n",
        "print(train_labels[0])"
      ],
      "execution_count": null,
      "outputs": [
        {
          "output_type": "stream",
          "text": [
            "(50000, 32, 32, 3)\n",
            "(50000, 1)\n",
            "[[62 46 48 54 73]\n",
            " [20  0  8 27 51]\n",
            " [24  7 27 50 72]\n",
            " [25 20 54 63 70]\n",
            " [32 32 65 79 77]]\n",
            "[6]\n"
          ],
          "name": "stdout"
        }
      ]
    },
    {
      "cell_type": "code",
      "metadata": {
        "id": "4jmjI74iCCGX"
      },
      "source": [
        "# Setup class names\n",
        "class_names= ['airplane', 'automobile', 'bird', 'cat', 'deer', 'dog', 'frog', 'horse', 'ship', 'truck']\n",
        "\n",
        "# Separate validation sets from train sets\n",
        "validation_images, validation_labels = train_images[:5000], train_labels[:5000]\n",
        "train_images, train_labels = train_images[5000:], train_labels[5000:]"
      ],
      "execution_count": null,
      "outputs": []
    },
    {
      "cell_type": "code",
      "metadata": {
        "id": "XOKhpSUsCCHS",
        "colab": {
          "base_uri": "https://localhost:8080/",
          "height": 347
        },
        "outputId": "9cdee735-3b37-426d-f804-ef425db49568"
      },
      "source": [
        "# Lets take a look at the first few images\n",
        "\n",
        "plt.figure(figsize=(32,32))\n",
        "for i, (image, label) in enumerate(zip(train_images[:5,:,:,:], train_labels[:5,:])):\n",
        "    ax = plt.subplot(5,5,i+1)\n",
        "    plt.imshow(image)\n",
        "    plt.title(class_names[label[0]])\n",
        "    plt.axis('off')"
      ],
      "execution_count": null,
      "outputs": [
        {
          "output_type": "display_data",
          "data": {
            "image/png": "[encoded data removed]",
            "text/plain": [
              "<Figure size 2304x2304 with 5 Axes>"
            ]
          },
          "metadata": {
            "tags": [],
            "needs_background": "light"
          }
        }
      ]
    },
    {
      "cell_type": "code",
      "metadata": {
        "id": "c_7uhAhtCCHi"
      },
      "source": [
        "# Standardize all images\n",
        "\n",
        "train_images = train_images / 255.0\n",
        "validation_images = validation_images / 255.0\n",
        "test_images = test_images / 255.0"
      ],
      "execution_count": null,
      "outputs": []
    },
    {
      "cell_type": "code",
      "metadata": {
        "id": "8_LYiJQSCCH6"
      },
      "source": [
        "# more preprocessing\n",
        "\n"
      ],
      "execution_count": null,
      "outputs": []
    },
    {
      "cell_type": "code",
      "metadata": {
        "id": "sJ4Mwj2rCCIG"
      },
      "source": [
        "# Add convolution layers\n",
        "\n",
        "#https://www.tensorflow.org/tutorials/images/cnn"
      ],
      "execution_count": null,
      "outputs": []
    },
    {
      "cell_type": "code",
      "metadata": {
        "id": "XEXuNYvIXCUq"
      },
      "source": [],
      "execution_count": null,
      "outputs": []
    },
    {
      "cell_type": "markdown",
      "metadata": {
        "id": "0SWvb60rXKYK"
      },
      "source": [
        "We introduce our model, and add convolutional layers."
      ]
    },
    {
      "cell_type": "code",
      "metadata": {
        "id": "Gg3z5jzACCIQ"
      },
      "source": [
        "\n",
        "model = models.Sequential()\n",
        "model.add(layers.Conv2D(32, (3, 3), activation='relu', input_shape=(32, 32, 3)))\n",
        "model.add(layers.MaxPooling2D((2, 2)))\n",
        "model.add(layers.Conv2D(64, (3, 3), activation='relu'))\n",
        "model.add(layers.MaxPooling2D((2, 2)))\n",
        "model.add(layers.Conv2D(64, (3, 3), activation='relu'))"
      ],
      "execution_count": null,
      "outputs": []
    },
    {
      "cell_type": "code",
      "metadata": {
        "id": "GHt4YZz1CCIZ"
      },
      "source": [
        "# add fully connected/ dense layers\n",
        "model.add(layers.Flatten())\n",
        "model.add(layers.Dense(64, activation='relu'))\n",
        "model.add(layers.Dense(10))"
      ],
      "execution_count": null,
      "outputs": []
    },
    {
      "cell_type": "code",
      "metadata": {
        "id": "0hGSIzCRCCIe",
        "colab": {
          "base_uri": "https://localhost:8080/"
        },
        "outputId": "6778fc9f-3381-460e-f11d-653fa2ba824a"
      },
      "source": [
        "model.summary()"
      ],
      "execution_count": null,
      "outputs": [
        {
          "output_type": "stream",
          "text": [
            "Model: \"sequential\"\n",
            "_________________________________________________________________\n",
            "Layer (type)                 Output Shape              Param #   \n",
            "=================================================================\n",
            "conv2d (Conv2D)              (None, 30, 30, 32)        896       \n",
            "_________________________________________________________________\n",
            "max_pooling2d (MaxPooling2D) (None, 15, 15, 32)        0         \n",
            "_________________________________________________________________\n",
            "conv2d_1 (Conv2D)            (None, 13, 13, 64)        18496     \n",
            "_________________________________________________________________\n",
            "max_pooling2d_1 (MaxPooling2 (None, 6, 6, 64)          0         \n",
            "_________________________________________________________________\n",
            "conv2d_2 (Conv2D)            (None, 4, 4, 64)          36928     \n",
            "_________________________________________________________________\n",
            "flatten (Flatten)            (None, 1024)              0         \n",
            "_________________________________________________________________\n",
            "dense (Dense)                (None, 64)                65600     \n",
            "_________________________________________________________________\n",
            "dense_1 (Dense)              (None, 10)                650       \n",
            "=================================================================\n",
            "Total params: 122,570\n",
            "Trainable params: 122,570\n",
            "Non-trainable params: 0\n",
            "_________________________________________________________________\n"
          ],
          "name": "stdout"
        }
      ]
    },
    {
      "cell_type": "code",
      "metadata": {
        "id": "PkNfV1upCCIv"
      },
      "source": [],
      "execution_count": null,
      "outputs": []
    },
    {
      "cell_type": "code",
      "metadata": {
        "id": "ZWllY6oKCCI1",
        "colab": {
          "base_uri": "https://localhost:8080/"
        },
        "outputId": "a06d55eb-8ad6-40d6-f425-257daac7c1fb"
      },
      "source": [
        "#Compile and train data\n",
        "# plug in training data. where we fit the model to our data, the training process\n",
        "with tf.device('/device:GPU:0'):   #### THIS WILL NOT WORK ON YOUR LAPTOP\n",
        "  model.compile(optimizer='adam',\n",
        "                loss=tf.keras.losses.SparseCategoricalCrossentropy(from_logits=True),\n",
        "                metrics=['accuracy'])\n",
        "\n",
        "  history = model.fit(train_images, train_labels, epochs=10, \n",
        "                      validation_data=(test_images, test_labels))"
      ],
      "execution_count": null,
      "outputs": [
        {
          "output_type": "stream",
          "text": [
            "Epoch 1/10\n",
            "1407/1407 [==============================] - 5s 4ms/step - loss: 1.5544 - accuracy: 0.4299 - val_loss: 1.2860 - val_accuracy: 0.5345\n",
            "Epoch 2/10\n",
            "1407/1407 [==============================] - 5s 3ms/step - loss: 1.2065 - accuracy: 0.5697 - val_loss: 1.1110 - val_accuracy: 0.6073\n",
            "Epoch 3/10\n",
            "1407/1407 [==============================] - 5s 3ms/step - loss: 1.0435 - accuracy: 0.6322 - val_loss: 1.0983 - val_accuracy: 0.6092\n",
            "Epoch 4/10\n",
            "1407/1407 [==============================] - 5s 3ms/step - loss: 0.9480 - accuracy: 0.6680 - val_loss: 0.9900 - val_accuracy: 0.6587\n",
            "Epoch 5/10\n",
            "1407/1407 [==============================] - 5s 3ms/step - loss: 0.8699 - accuracy: 0.6947 - val_loss: 0.9632 - val_accuracy: 0.6674\n",
            "Epoch 6/10\n",
            "1407/1407 [==============================] - 5s 4ms/step - loss: 0.8090 - accuracy: 0.7149 - val_loss: 0.9108 - val_accuracy: 0.6904\n",
            "Epoch 7/10\n",
            "1407/1407 [==============================] - 5s 3ms/step - loss: 0.7548 - accuracy: 0.7368 - val_loss: 0.9256 - val_accuracy: 0.6859\n",
            "Epoch 8/10\n",
            "1407/1407 [==============================] - 5s 3ms/step - loss: 0.7086 - accuracy: 0.7518 - val_loss: 0.8858 - val_accuracy: 0.6975\n",
            "Epoch 9/10\n",
            "1407/1407 [==============================] - 5s 3ms/step - loss: 0.6671 - accuracy: 0.7664 - val_loss: 0.8561 - val_accuracy: 0.7112\n",
            "Epoch 10/10\n",
            "1407/1407 [==============================] - 5s 3ms/step - loss: 0.6287 - accuracy: 0.7798 - val_loss: 0.8548 - val_accuracy: 0.7093\n"
          ],
          "name": "stdout"
        }
      ]
    },
    {
      "cell_type": "code",
      "metadata": {
        "id": "bJ0Za6I6CCJG",
        "colab": {
          "base_uri": "https://localhost:8080/",
          "height": 300
        },
        "outputId": "559c7673-57a5-454c-bcf0-013d3a22e209"
      },
      "source": [
        "# Evaluate the Model\n",
        "plt.plot(history.history['accuracy'], label='accuracy')\n",
        "plt.plot(history.history['val_accuracy'], label = 'val_accuracy')\n",
        "plt.xlabel('Epoch')\n",
        "plt.ylabel('Accuracy')\n",
        "plt.ylim([0.5, 1])\n",
        "plt.legend(loc='lower right')\n",
        "\n",
        "test_loss, test_acc = model.evaluate(test_images,  test_labels, verbose=2)"
      ],
      "execution_count": null,
      "outputs": [
        {
          "output_type": "stream",
          "text": [
            "313/313 - 1s - loss: 0.8548 - accuracy: 0.7093\n"
          ],
          "name": "stdout"
        },
        {
          "output_type": "display_data",
          "data": {
            "image/png": "[encoded data removed]",
            "text/plain": [
              "<Figure size 432x288 with 1 Axes>"
            ]
          },
          "metadata": {
            "tags": [],
            "needs_background": "light"
          }
        }
      ]
    },
    {
      "cell_type": "markdown",
      "metadata": {
        "id": "Go3443zUCCJY"
      },
      "source": [
        "model has 69% accuracy, which actually is reasonably good compared to pure guessing. For 10 classes, randomly guessing prob. is 1 in 10. For 2 classes, you'd want your accuracy to be better than 1 in 2, 50%."
      ]
    },
    {
      "cell_type": "code",
      "metadata": {
        "id": "fd8tgRwpCCJZ",
        "colab": {
          "base_uri": "https://localhost:8080/"
        },
        "outputId": "b0c518c1-54c1-4071-f74b-f91bba8791c9"
      },
      "source": [
        "print(test_acc)"
      ],
      "execution_count": null,
      "outputs": [
        {
          "output_type": "stream",
          "text": [
            "0.7092999815940857\n"
          ],
          "name": "stdout"
        }
      ]
    },
    {
      "cell_type": "code",
      "metadata": {
        "id": "RqksWpXmCCJl"
      },
      "source": [],
      "execution_count": null,
      "outputs": []
    },
    {
      "cell_type": "code",
      "metadata": {
        "id": "oGxbBRPRCCJp"
      },
      "source": [],
      "execution_count": null,
      "outputs": []
    },
    {
      "cell_type": "markdown",
      "metadata": {
        "id": "IXmGUeRKCCJs"
      },
      "source": [
        "**bold text**# 5\n",
        "Our second model..."
      ]
    },
    {
      "cell_type": "code",
      "metadata": {
        "id": "hYHGbyPrCCJt"
      },
      "source": [],
      "execution_count": null,
      "outputs": []
    },
    {
      "cell_type": "markdown",
      "metadata": {
        "id": "Jx2pxON0kkvx"
      },
      "source": []
    },
    {
      "cell_type": "code",
      "metadata": {
        "id": "JTCtsv-FCCJz"
      },
      "source": [],
      "execution_count": null,
      "outputs": []
    },
    {
      "cell_type": "code",
      "metadata": {
        "id": "QWDN7Rw9CCJ3"
      },
      "source": [],
      "execution_count": null,
      "outputs": []
    },
    {
      "cell_type": "code",
      "metadata": {
        "id": "T2VcxWNBCCJ-",
        "colab": {
          "base_uri": "https://localhost:8080/",
          "height": 317
        },
        "outputId": "81553a0b-00c7-4cba-c9bd-b1bc21495d97"
      },
      "source": [
        "import numpy as np\n",
        "# Random crop function:\n",
        "def rand_crop_im(my_image):\n",
        "    lx, ly = my_image.shape[0:2]\n",
        "    print(f'lx: {lx}.   ly: {ly}')\n",
        "    rand_crop_proportion = np.random.choice([9, 10, 11 ])\n",
        "    y_crop1 = ly // rand_crop_proportion\n",
        "    y_crop2 = - ly // rand_crop_proportion\n",
        "    x_crop1 = lx // rand_crop_proportion\n",
        "    x_crop2 = - lx // rand_crop_proportion\n",
        "    print(f'x_crop1:x_crop2  y_crop1:y_crop2      {x_crop1}:{x_crop2},  {y_crop1}:{y_crop2}')\n",
        "    crop_rand = my_image[x_crop1:x_crop2, y_crop1:y_crop2, : ]\n",
        "\n",
        "    # resize back to shape\n",
        "    crop_rand = transform.resize(crop_rand, (lx, ly, 3), order=1)\n",
        "    return(crop_rand)\n",
        "\n",
        "#plt.imshow(rand_crop_im(train_images[0])[0], cmap='gray')\n",
        "plt.imshow(rand_crop_im(train_images[1]) )"
      ],
      "execution_count": null,
      "outputs": [
        {
          "output_type": "stream",
          "text": [
            "lx: 32.   ly: 32\n",
            "x_crop1:x_crop2  y_crop1:y_crop2      3:-4,  3:-4\n"
          ],
          "name": "stdout"
        },
        {
          "output_type": "execute_result",
          "data": {
            "text/plain": [
              "<matplotlib.image.AxesImage at 0x7f2876e66be0>"
            ]
          },
          "metadata": {
            "tags": []
          },
          "execution_count": 19
        },
        {
          "output_type": "display_data",
          "data": {
            "image/png": "[encoded data removed]",
            "text/plain": [
              "<Figure size 432x288 with 1 Axes>"
            ]
          },
          "metadata": {
            "tags": [],
            "needs_background": "light"
          }
        }
      ]
    },
    {
      "cell_type": "code",
      "metadata": {
        "id": "Ujbz01mqJMYp"
      },
      "source": [
        "#%tensorflow_version 2.3"
      ],
      "execution_count": null,
      "outputs": []
    },
    {
      "cell_type": "code",
      "metadata": {
        "id": "dyV5bccZCCKE",
        "colab": {
          "base_uri": "https://localhost:8080/"
        },
        "outputId": "5c7d285f-1ec5-48f5-9232-c51c68d1dfa1"
      },
      "source": [
        "tf.version"
      ],
      "execution_count": null,
      "outputs": [
        {
          "output_type": "execute_result",
          "data": {
            "text/plain": [
              "<module 'tensorflow._api.v2.version' from '/usr/local/lib/python3.6/dist-packages/tensorflow/_api/v2/version/__init__.py'>"
            ]
          },
          "metadata": {
            "tags": []
          },
          "execution_count": 22
        }
      ]
    },
    {
      "cell_type": "code",
      "metadata": {
        "id": "cDJBSaULLnUz",
        "colab": {
          "base_uri": "https://localhost:8080/"
        },
        "outputId": "f5cd9975-e02e-4e07-8482-095735eb8250"
      },
      "source": [
        "train_images[0].shape"
      ],
      "execution_count": null,
      "outputs": [
        {
          "output_type": "execute_result",
          "data": {
            "text/plain": [
              "(32, 32, 3)"
            ]
          },
          "metadata": {
            "tags": []
          },
          "execution_count": 23
        }
      ]
    },
    {
      "cell_type": "code",
      "metadata": {
        "id": "9WYq-ryUHV37",
        "colab": {
          "base_uri": "https://localhost:8080/"
        },
        "outputId": "28c037af-de6b-4181-d131-040d35f58a59"
      },
      "source": [
        "# Random crop, 20x20 \n",
        "# Random crop function:\n",
        "def rand_crop_im(my_image):\n",
        "  crop_rand = tf.image.random_crop(my_image, [5,20,3])\n",
        "  return(crop_rand)\n",
        "\n",
        "r_crop = rand_crop_im(train_images[0])\n",
        "r_crop.shape"
      ],
      "execution_count": null,
      "outputs": [
        {
          "output_type": "execute_result",
          "data": {
            "text/plain": [
              "TensorShape([5, 20, 3])"
            ]
          },
          "metadata": {
            "tags": []
          },
          "execution_count": 25
        }
      ]
    },
    {
      "cell_type": "code",
      "metadata": {
        "id": "CR43XZ98L06Y",
        "colab": {
          "base_uri": "https://localhost:8080/",
          "height": 149
        },
        "outputId": "9ad1c901-41e4-4642-cbde-ea89e967d428"
      },
      "source": [
        "#plt.imshow(r[0], cmap='gray')\n",
        "plt.imshow(r_crop)"
      ],
      "execution_count": null,
      "outputs": [
        {
          "output_type": "execute_result",
          "data": {
            "text/plain": [
              "<matplotlib.image.AxesImage at 0x7f2876d1f390>"
            ]
          },
          "metadata": {
            "tags": []
          },
          "execution_count": 27
        },
        {
          "output_type": "display_data",
          "data": {
            "image/png": "[encoded data removed]",
            "text/plain": [
              "<Figure size 432x288 with 1 Axes>"
            ]
          },
          "metadata": {
            "tags": [],
            "needs_background": "light"
          }
        }
      ]
    },
    {
      "cell_type": "code",
      "metadata": {
        "id": "ibwbMWpuRUf7",
        "colab": {
          "base_uri": "https://localhost:8080/"
        },
        "outputId": "9d7b4e27-6bdc-4585-821b-63dd77dd9a87"
      },
      "source": [
        "train_images[0].shape"
      ],
      "execution_count": null,
      "outputs": [
        {
          "output_type": "execute_result",
          "data": {
            "text/plain": [
              "(32, 32, 3)"
            ]
          },
          "metadata": {
            "tags": []
          },
          "execution_count": 28
        }
      ]
    },
    {
      "cell_type": "code",
      "metadata": {
        "id": "x4NysMfWOp-O",
        "colab": {
          "base_uri": "https://localhost:8080/",
          "height": 300
        },
        "outputId": "9c1f836a-ed7d-448b-aa7a-c4e9ed0607c2"
      },
      "source": [
        "from scipy import ndimage\n",
        "from skimage import transform\n",
        "# Random Rotation function:\n",
        "def rand_rotation_im(my_image):\n",
        "    rand_angle = np.random.choice(range(1, 360))\n",
        "    my_image[:, :, :] = ndimage.rotate(\n",
        "        my_image[:, :, :], \n",
        "        rand_angle, \n",
        "        cval=my_image[:, :, :].min(), \n",
        "        reshape=False)\n",
        "    return my_image\n",
        "\n",
        "#plt.imshow(rand_rotation_im(train_images[0])[0], cmap='gray')\n",
        "plt.imshow(rand_rotation_im(train_images[0]) ) "
      ],
      "execution_count": null,
      "outputs": [
        {
          "output_type": "stream",
          "text": [
            "Clipping input data to the valid range for imshow with RGB data ([0..1] for floats or [0..255] for integers).\n"
          ],
          "name": "stderr"
        },
        {
          "output_type": "execute_result",
          "data": {
            "text/plain": [
              "<matplotlib.image.AxesImage at 0x7f28760d14e0>"
            ]
          },
          "metadata": {
            "tags": []
          },
          "execution_count": 35
        },
        {
          "output_type": "display_data",
          "data": {
            "image/png": "[encoded data removed]",
            "text/plain": [
              "<Figure size 432x288 with 1 Axes>"
            ]
          },
          "metadata": {
            "tags": [],
            "needs_background": "light"
          }
        }
      ]
    },
    {
      "cell_type": "code",
      "metadata": {
        "id": "_DfOQxSpQ2TI"
      },
      "source": [
        "## MODEL from \n",
        "## https://machinelearningmastery.com/how-to-develop-a-cnn-from-scratch-for-cifar-10-photo-classification/\n",
        "## without augmentation of rotations and crops\n",
        "\n",
        "import sys\n",
        "from matplotlib import pyplot\n",
        "from keras.datasets import cifar10\n",
        "from keras.utils import to_categorical\n",
        "from keras.models import Sequential\n",
        "from keras.layers import Conv2D\n",
        "from keras.layers import MaxPooling2D\n",
        "from keras.layers import Dense\n",
        "from keras.layers import Flatten\n",
        "from keras.layers import Dropout\n",
        "from keras.optimizers import SGD\n",
        "def define_model():\n",
        "\tmodel = Sequential()\n",
        "\tmodel.add(Conv2D(32, (3, 3), activation='relu', kernel_initializer='he_uniform', padding='same', input_shape=(32, 32, 3)))\n",
        "\tmodel.add(MaxPooling2D((2, 2)))\n",
        "\tmodel.add(Dropout(0.2))\n",
        "\tmodel.add(Conv2D(64, (3, 3), activation='relu', kernel_initializer='he_uniform', padding='same'))\n",
        "\tmodel.add(MaxPooling2D((2, 2)))\n",
        "\tmodel.add(Dropout(0.3))\n",
        "\tmodel.add(Conv2D(128, (3, 3), activation='relu', kernel_initializer='he_uniform', padding='same'))\n",
        "\tmodel.add(MaxPooling2D((2, 2)))\n",
        "\tmodel.add(Dropout(0.4))\n",
        "\tmodel.add(Flatten())\n",
        "\tmodel.add(Dense(128, activation='relu', kernel_initializer='he_uniform'))\n",
        "\tmodel.add(Dropout(0.5))\n",
        "\tmodel.add(Dense(10, activation='softmax'))\n",
        "\t# compile model\n",
        "\topt = SGD(lr=0.001, momentum=0.9)\n",
        "\tmodel.compile(optimizer=opt, loss='categorical_crossentropy', metrics=['accuracy'])\n",
        "\treturn model\n",
        "model = define_model()"
      ],
      "execution_count": null,
      "outputs": []
    },
    {
      "cell_type": "code",
      "metadata": {
        "id": "v6usglweYGug",
        "colab": {
          "base_uri": "https://localhost:8080/"
        },
        "outputId": "c908d736-f16c-487c-d1d5-535135003ec1"
      },
      "source": [
        "with tf.device('/device:GPU:0'):   #### THIS WILL NOT WORK ON YOUR LAPTOP\n",
        "  model.compile(optimizer='adam',\n",
        "                loss=tf.keras.losses.SparseCategoricalCrossentropy(from_logits=True),\n",
        "                metrics=['accuracy'])\n",
        "\n",
        "  history = model.fit(train_images, train_labels, epochs=10, \n",
        "                      validation_data=(test_images, test_labels))"
      ],
      "execution_count": null,
      "outputs": [
        {
          "output_type": "stream",
          "text": [
            "Epoch 1/10\n",
            "1407/1407 [==============================] - 5s 4ms/step - loss: 2.2252 - accuracy: 0.2273 - val_loss: 2.0645 - val_accuracy: 0.3894\n",
            "Epoch 2/10\n",
            "1407/1407 [==============================] - 5s 4ms/step - loss: 2.0775 - accuracy: 0.3769 - val_loss: 2.0256 - val_accuracy: 0.4317\n",
            "Epoch 3/10\n",
            "1407/1407 [==============================] - 5s 4ms/step - loss: 2.0338 - accuracy: 0.4210 - val_loss: 1.9893 - val_accuracy: 0.4664\n",
            "Epoch 4/10\n",
            "1407/1407 [==============================] - 5s 4ms/step - loss: 1.9987 - accuracy: 0.4572 - val_loss: 1.9338 - val_accuracy: 0.5251\n",
            "Epoch 5/10\n",
            "1407/1407 [==============================] - 6s 4ms/step - loss: 1.9720 - accuracy: 0.4844 - val_loss: 1.9199 - val_accuracy: 0.5372\n",
            "Epoch 6/10\n",
            "1407/1407 [==============================] - 6s 4ms/step - loss: 1.9603 - accuracy: 0.4970 - val_loss: 1.8941 - val_accuracy: 0.5627\n",
            "Epoch 7/10\n",
            "1407/1407 [==============================] - 5s 4ms/step - loss: 1.9497 - accuracy: 0.5076 - val_loss: 1.9426 - val_accuracy: 0.5137\n",
            "Epoch 8/10\n",
            "1407/1407 [==============================] - 5s 4ms/step - loss: 1.9452 - accuracy: 0.5122 - val_loss: 1.8816 - val_accuracy: 0.5761\n",
            "Epoch 9/10\n",
            "1407/1407 [==============================] - 5s 4ms/step - loss: 1.9331 - accuracy: 0.5246 - val_loss: 1.8875 - val_accuracy: 0.5692\n",
            "Epoch 10/10\n",
            "1407/1407 [==============================] - 5s 4ms/step - loss: 1.9265 - accuracy: 0.5322 - val_loss: 1.8580 - val_accuracy: 0.6013\n"
          ],
          "name": "stdout"
        }
      ]
    },
    {
      "cell_type": "markdown",
      "metadata": {
        "id": "rf9X_uKQmYo8"
      },
      "source": [
        "Below we plot our test and validation accuracy...."
      ]
    },
    {
      "cell_type": "code",
      "metadata": {
        "id": "UCNclBuAYkY9",
        "colab": {
          "base_uri": "https://localhost:8080/",
          "height": 300
        },
        "outputId": "d96070bd-c833-4eec-8fb9-658188800fa2"
      },
      "source": [
        "plt.plot(history.history['accuracy'], label='accuracy')\n",
        "plt.plot(history.history['val_accuracy'], label = 'val_accuracy')\n",
        "plt.xlabel('Epoch')\n",
        "plt.ylabel('Accuracy')\n",
        "plt.ylim([0.0, 1])\n",
        "plt.legend(loc='lower right')\n",
        "\n",
        "test_loss, test_acc = model.evaluate(test_images,  test_labels, verbose=2)"
      ],
      "execution_count": null,
      "outputs": [
        {
          "output_type": "stream",
          "text": [
            "313/313 - 1s - loss: 1.8580 - accuracy: 0.6013\n"
          ],
          "name": "stdout"
        },
        {
          "output_type": "display_data",
          "data": {
            "image/png": "[encoded data removed]",
            "text/plain": [
              "<Figure size 432x288 with 1 Axes>"
            ]
          },
          "metadata": {
            "tags": [],
            "needs_background": "light"
          }
        }
      ]
    },
    {
      "cell_type": "markdown",
      "metadata": {
        "id": "j-nCLSJKmU1U"
      },
      "source": [
        "\n"
      ]
    },
    {
      "cell_type": "code",
      "metadata": {
        "id": "iYKnNixuY-zY"
      },
      "source": [],
      "execution_count": null,
      "outputs": []
    },
    {
      "cell_type": "markdown",
      "metadata": {
        "id": "XFroDlqLnpqm"
      },
      "source": [
        "# 6\n",
        "For our third model, we add dialation parameter to our CNN model.\n",
        "-fiddled with dialation rate values"
      ]
    },
    {
      "cell_type": "code",
      "metadata": {
        "id": "pij2Sl4-n9wM"
      },
      "source": [
        "def define_model():\n",
        "\tmodel = Sequential()\n",
        "\tmodel.add(Conv2D(32, (3, 3), dilation_rate=(3,2), activation='relu', kernel_initializer='he_uniform', padding='same', input_shape=(32, 32, 3)))\n",
        "\tmodel.add(MaxPooling2D((2, 2)))\n",
        "\tmodel.add(Dropout(0.2))\n",
        "\tmodel.add(Conv2D(64, (3, 3), dilation_rate=(3,2), activation='relu', kernel_initializer='he_uniform', padding='same'))\n",
        "\tmodel.add(MaxPooling2D((2, 2)))\n",
        "\tmodel.add(Dropout(0.3))\n",
        "\tmodel.add(Conv2D(128, (3, 3), dilation_rate=(3,2), activation='relu', kernel_initializer='he_uniform', padding='same'))\n",
        "\tmodel.add(MaxPooling2D((2, 2)))\n",
        "\tmodel.add(Dropout(0.4))\n",
        "\tmodel.add(Flatten())\n",
        "\tmodel.add(Dense(128, activation='relu', kernel_initializer='he_uniform'))\n",
        "\tmodel.add(Dropout(0.5))\n",
        "\tmodel.add(Dense(10, activation='softmax'))\n",
        "\t# compile model\n",
        "\topt = SGD(lr=0.001, momentum=0.9)\n",
        "\tmodel.compile(optimizer=opt, loss='categorical_crossentropy', metrics=['accuracy'])\n",
        "\treturn model\n",
        "model = define_model()"
      ],
      "execution_count": null,
      "outputs": []
    },
    {
      "cell_type": "code",
      "metadata": {
        "id": "DPR_qlmdqUD3",
        "colab": {
          "base_uri": "https://localhost:8080/"
        },
        "outputId": "5eee4c25-9a00-4e28-f820-599e6fcf29a0"
      },
      "source": [
        "with tf.device('/device:GPU:0'):   #### THIS WILL NOT WORK ON YOUR LAPTOP\n",
        "  model.compile(optimizer='adam',\n",
        "                loss=tf.keras.losses.SparseCategoricalCrossentropy(from_logits=True),\n",
        "                metrics=['accuracy'])\n",
        "\n",
        "  history = model.fit(train_images, train_labels, epochs=10, \n",
        "                      validation_data=(test_images, test_labels))"
      ],
      "execution_count": null,
      "outputs": [
        {
          "output_type": "stream",
          "text": [
            "Epoch 1/10\n",
            "1407/1407 [==============================] - 7s 5ms/step - loss: 2.1614 - accuracy: 0.2878 - val_loss: 2.0430 - val_accuracy: 0.4127\n",
            "Epoch 2/10\n",
            "1407/1407 [==============================] - 6s 5ms/step - loss: 2.0555 - accuracy: 0.3998 - val_loss: 1.9909 - val_accuracy: 0.4659\n",
            "Epoch 3/10\n",
            "1407/1407 [==============================] - 6s 5ms/step - loss: 2.0162 - accuracy: 0.4400 - val_loss: 1.9542 - val_accuracy: 0.5061\n",
            "Epoch 4/10\n",
            "1407/1407 [==============================] - 6s 5ms/step - loss: 1.9915 - accuracy: 0.4645 - val_loss: 1.9814 - val_accuracy: 0.4741\n",
            "Epoch 5/10\n",
            "1407/1407 [==============================] - 7s 5ms/step - loss: 1.9705 - accuracy: 0.4867 - val_loss: 1.9232 - val_accuracy: 0.5354\n",
            "Epoch 6/10\n",
            "1407/1407 [==============================] - 6s 5ms/step - loss: 1.9708 - accuracy: 0.4865 - val_loss: 1.9235 - val_accuracy: 0.5340\n",
            "Epoch 7/10\n",
            "1407/1407 [==============================] - 6s 5ms/step - loss: 1.9597 - accuracy: 0.4972 - val_loss: 1.9149 - val_accuracy: 0.5430\n",
            "Epoch 8/10\n",
            "1407/1407 [==============================] - 6s 5ms/step - loss: 1.9519 - accuracy: 0.5054 - val_loss: 1.9343 - val_accuracy: 0.5236\n",
            "Epoch 9/10\n",
            "1407/1407 [==============================] - 6s 5ms/step - loss: 1.9445 - accuracy: 0.5131 - val_loss: 1.9214 - val_accuracy: 0.5362\n",
            "Epoch 10/10\n",
            "1407/1407 [==============================] - 6s 5ms/step - loss: 1.9410 - accuracy: 0.5167 - val_loss: 1.8979 - val_accuracy: 0.5591\n"
          ],
          "name": "stdout"
        }
      ]
    },
    {
      "cell_type": "markdown",
      "metadata": {
        "id": "7CCyceH4rKab"
      },
      "source": [
        "Below we plot the accuracy for the third model with dialation. For this model, we tried several 'dialation_rate' touples to see if we could improve accuracy. Generally, we found that different dialation settings didnt improve the accuracy."
      ]
    },
    {
      "cell_type": "code",
      "metadata": {
        "id": "hnDvO4dXqzBD",
        "colab": {
          "base_uri": "https://localhost:8080/",
          "height": 300
        },
        "outputId": "2df4b18c-8c03-4442-a7d9-60a8dd3b1c94"
      },
      "source": [
        "plt.plot(history.history['accuracy'], label='accuracy')\n",
        "plt.plot(history.history['val_accuracy'], label = 'val_accuracy')\n",
        "plt.xlabel('Epoch')\n",
        "plt.ylabel('Accuracy')\n",
        "plt.ylim([0.0, 1])\n",
        "plt.legend(loc='lower right')\n",
        "\n",
        "test_loss, test_acc = model.evaluate(test_images,  test_labels, verbose=2)"
      ],
      "execution_count": null,
      "outputs": [
        {
          "output_type": "stream",
          "text": [
            "313/313 - 1s - loss: 1.8979 - accuracy: 0.5591\n"
          ],
          "name": "stdout"
        },
        {
          "output_type": "display_data",
          "data": {
            "image/png": "[encoded data removed]",
            "text/plain": [
              "<Figure size 432x288 with 1 Axes>"
            ]
          },
          "metadata": {
            "tags": [],
            "needs_background": "light"
          }
        }
      ]
    },
    {
      "cell_type": "code",
      "metadata": {
        "id": "TtLQqgjUrHsA"
      },
      "source": [],
      "execution_count": null,
      "outputs": []
    },
    {
      "cell_type": "markdown",
      "metadata": {
        "id": "bz9TLFVUrdK-"
      },
      "source": []
    }
  ]
}