{
 "cells": [
  {
   "cell_type": "markdown",
   "id": "978f9f8f-bc97-4408-ad2e-0172f483ebc5",
   "metadata": {},
   "source": [
    " ### DL RNN\n",
    " \n",
    " # Analyzing Social Media Comment Sentiment with Recurrent Neural Networks in Python\n",
    " "
   ]
  },
  {
   "cell_type": "code",
   "execution_count": 1,
   "id": "5a1627da-170f-4857-b6c8-8ce801031a81",
   "metadata": {
    "tags": []
   },
   "outputs": [],
   "source": [
    "import os\n",
    "import pandas as pd\n",
    "import seaborn as sns\n",
    "import re\n",
    "import nltk\n",
    "from nltk.tokenize import word_tokenize,sent_tokenize # splits sentences into word \n",
    "from nltk.corpus import stopwords,opinion_lexicon\n",
    "from nltk.stem.snowball import SnowballStemmer  \n",
    "from nltk.stem import WordNetLemmatizer\n"
   ]
  },
  {
   "cell_type": "code",
   "execution_count": 2,
   "id": "b75faa55-2040-4e62-839f-c3b9539b2c9b",
   "metadata": {
    "tags": []
   },
   "outputs": [],
   "source": [
    "#os.getcwd()\n",
    "#print(os.listdir(os.getcwd()))\n",
    "os.chdir(\"C:\\\\Users\\\\ingri\\\\OneDrive\\\\SynergisticPython\\\\text sentiment\")"
   ]
  },
  {
   "cell_type": "code",
   "execution_count": 4,
   "id": "c65492e7-997c-41ce-8bc7-f5989b4de48d",
   "metadata": {
    "tags": []
   },
   "outputs": [],
   "source": [
    "#nltk.download('omw-1.4')\n",
    "#nltk.download('punkt')\n",
    "#nltk.download('stopwords')\n",
    "#nltk.download('wordnet')\n",
    "#nltk.download('opinion_lexicon')"
   ]
  },
  {
   "cell_type": "code",
   "execution_count": 5,
   "id": "73dbddbb-0a8e-4077-9916-5eac547f6cd3",
   "metadata": {
    "tags": []
   },
   "outputs": [
    {
     "data": {
      "text/html": [
       "<div>\n",
       "<style scoped>\n",
       "    .dataframe tbody tr th:only-of-type {\n",
       "        vertical-align: middle;\n",
       "    }\n",
       "\n",
       "    .dataframe tbody tr th {\n",
       "        vertical-align: top;\n",
       "    }\n",
       "\n",
       "    .dataframe thead th {\n",
       "        text-align: right;\n",
       "    }\n",
       "</style>\n",
       "<table border=\"1\" class=\"dataframe\">\n",
       "  <thead>\n",
       "    <tr style=\"text-align: right;\">\n",
       "      <th></th>\n",
       "      <th>Comments Text</th>\n",
       "    </tr>\n",
       "  </thead>\n",
       "  <tbody>\n",
       "    <tr>\n",
       "      <th>0</th>\n",
       "      <td>So, when you ask what the two illnesses are......</td>\n",
       "    </tr>\n",
       "    <tr>\n",
       "      <th>1</th>\n",
       "      <td>In addition, people with BPD quite often have ...</td>\n",
       "    </tr>\n",
       "    <tr>\n",
       "      <th>2</th>\n",
       "      <td>Borderline Personality Disorder, like all othe...</td>\n",
       "    </tr>\n",
       "    <tr>\n",
       "      <th>3</th>\n",
       "      <td>LONG ANSWER: Bipolar disease is caused by a ch...</td>\n",
       "    </tr>\n",
       "    <tr>\n",
       "      <th>4</th>\n",
       "      <td>Well think of bipolar as a rollar coaster you ...</td>\n",
       "    </tr>\n",
       "  </tbody>\n",
       "</table>\n",
       "</div>"
      ],
      "text/plain": [
       "                                       Comments Text\n",
       "0  So, when you ask what the two illnesses are......\n",
       "1  In addition, people with BPD quite often have ...\n",
       "2  Borderline Personality Disorder, like all othe...\n",
       "3  LONG ANSWER: Bipolar disease is caused by a ch...\n",
       "4  Well think of bipolar as a rollar coaster you ..."
      ]
     },
     "execution_count": 5,
     "metadata": {},
     "output_type": "execute_result"
    }
   ],
   "source": [
    "data = pd.read_excel('Depression _ Anxiety Facebook page Comments Text.xlsx')\n",
    "data.head()"
   ]
  },
  {
   "cell_type": "markdown",
   "id": "75cb353f-ef6d-41e5-9312-2c2f68e98acf",
   "metadata": {
    "tags": []
   },
   "source": [
    "### Data Cleaning"
   ]
  },
  {
   "cell_type": "code",
   "execution_count": 6,
   "id": "513cd327-9840-4234-86da-01d0e2cdd36d",
   "metadata": {
    "tags": []
   },
   "outputs": [
    {
     "data": {
      "text/plain": [
       "'So, when you ask what the two illnesses are...they\\'re similar in that they tend to have moodiness involved, impulsivity and self-damaging behaviors for compensatory measures. Otherwise, they\\'re not really that similar, but they do seem to \"like\" one another and often show up in the same person...making their lives chaotic, difficult, dysfunctional, and intense. \\n\\nSo, if your friend is concerned that they may have one (or both) of these illnesses, they should not be ashamed. It\\'s definitely not their fault. They should, instead, get help from a professional...and INSIST that they are treated appropriately with the correct types of therapy and medication.'"
      ]
     },
     "execution_count": 6,
     "metadata": {},
     "output_type": "execute_result"
    }
   ],
   "source": [
    "data['Comments Text'][0]"
   ]
  },
  {
   "cell_type": "code",
   "execution_count": 7,
   "id": "167dc1b6-3dba-47e6-b210-c0fd561e483b",
   "metadata": {
    "tags": []
   },
   "outputs": [],
   "source": [
    " #re.sub(\"[^A-z\" \"]+\",\" \",data[\"Comments Text\"][0])"
   ]
  },
  {
   "cell_type": "code",
   "execution_count": 8,
   "id": "8cbc374a-9b8e-4df2-85dc-6b80504c8b72",
   "metadata": {
    "tags": []
   },
   "outputs": [],
   "source": [
    "#data['Comments Text']=data[\"Comments Text\"].apply(Lambda x:re.sub(\"[^A-z\" \"]+\",\" \",x))"
   ]
  },
  {
   "cell_type": "code",
   "execution_count": 9,
   "id": "f74dd0ce-1925-43d4-a1a6-96acc87553a6",
   "metadata": {
    "tags": []
   },
   "outputs": [],
   "source": [
    "stopword=stopwords.words('english')"
   ]
  },
  {
   "cell_type": "code",
   "execution_count": 10,
   "id": "09dfa92a-b34c-4ec2-b75a-4292c87760eb",
   "metadata": {
    "tags": []
   },
   "outputs": [
    {
     "name": "stdout",
     "output_type": "stream",
     "text": [
      "['i', 'me', 'my', 'myself', 'we', 'our', 'ours', 'ourselves', 'you', \"you're\", \"you've\", \"you'll\", \"you'd\", 'your', 'yours', 'yourself', 'yourselves', 'he', 'him', 'his', 'himself', 'she', \"she's\", 'her', 'hers', 'herself', 'it', \"it's\", 'its', 'itself', 'they', 'them', 'their', 'theirs', 'themselves', 'what', 'which', 'who', 'whom', 'this', 'that', \"that'll\", 'these', 'those', 'am', 'is', 'are', 'was', 'were', 'be', 'been', 'being', 'have', 'has', 'had', 'having', 'do', 'does', 'did', 'doing', 'a', 'an', 'the', 'and', 'but', 'if', 'or', 'because', 'as', 'until', 'while', 'of', 'at', 'by', 'for', 'with', 'about', 'against', 'between', 'into', 'through', 'during', 'before', 'after', 'above', 'below', 'to', 'from', 'up', 'down', 'in', 'out', 'on', 'off', 'over', 'under', 'again', 'further', 'then', 'once', 'here', 'there', 'when', 'where', 'why', 'how', 'all', 'any', 'both', 'each', 'few', 'more', 'most', 'other', 'some', 'such', 'no', 'nor', 'not', 'only', 'own', 'same', 'so', 'than', 'too', 'very', 's', 't', 'can', 'will', 'just', 'don', \"don't\", 'should', \"should've\", 'now', 'd', 'll', 'm', 'o', 're', 've', 'y', 'ain', 'aren', \"aren't\", 'couldn', \"couldn't\", 'didn', \"didn't\", 'doesn', \"doesn't\", 'hadn', \"hadn't\", 'hasn', \"hasn't\", 'haven', \"haven't\", 'isn', \"isn't\", 'ma', 'mightn', \"mightn't\", 'mustn', \"mustn't\", 'needn', \"needn't\", 'shan', \"shan't\", 'shouldn', \"shouldn't\", 'wasn', \"wasn't\", 'weren', \"weren't\", 'won', \"won't\", 'wouldn', \"wouldn't\"]\n"
     ]
    }
   ],
   "source": [
    "print(stopword)"
   ]
  },
  {
   "cell_type": "code",
   "execution_count": 11,
   "id": "1ebfbeed-f3af-4ae3-8ca4-8b4db3b0c45e",
   "metadata": {
    "tags": []
   },
   "outputs": [],
   "source": [
    "lem=WordNetLemmatizer()"
   ]
  },
  {
   "cell_type": "code",
   "execution_count": 12,
   "id": "829edbf4-8d35-43b2-8925-f6475149930d",
   "metadata": {
    "tags": []
   },
   "outputs": [
    {
     "data": {
      "text/plain": [
       "179"
      ]
     },
     "execution_count": 12,
     "metadata": {},
     "output_type": "execute_result"
    }
   ],
   "source": [
    "len(stopword)"
   ]
  },
  {
   "cell_type": "code",
   "execution_count": 13,
   "id": "62b10bf5-a129-49b4-b2a9-b428139ae37b",
   "metadata": {
    "tags": []
   },
   "outputs": [],
   "source": [
    "def remove(x):\n",
    "    x=re.sub(\"[^A-z\" \"]+\",\" \",x )     # uses the re (regular expression) module to replace                                       \n",
    "    s=\"\"                               # any non-alphabetic characters (including spaces) with a single space\n",
    "    \n",
    "    for i in x.split():    #splits the string into a list of words based on spaces.\n",
    "        if i not in stopword:\n",
    "            i=lem.lemmatize(word=i)\n",
    "            s=s+\" \"+i\n",
    "    return s"
   ]
  },
  {
   "cell_type": "code",
   "execution_count": 14,
   "id": "fe0e2e28-5a7e-4624-9da6-c8f853d4ce8e",
   "metadata": {
    "tags": []
   },
   "outputs": [
    {
     "data": {
      "text/html": [
       "<div>\n",
       "<style scoped>\n",
       "    .dataframe tbody tr th:only-of-type {\n",
       "        vertical-align: middle;\n",
       "    }\n",
       "\n",
       "    .dataframe tbody tr th {\n",
       "        vertical-align: top;\n",
       "    }\n",
       "\n",
       "    .dataframe thead th {\n",
       "        text-align: right;\n",
       "    }\n",
       "</style>\n",
       "<table border=\"1\" class=\"dataframe\">\n",
       "  <thead>\n",
       "    <tr style=\"text-align: right;\">\n",
       "      <th></th>\n",
       "      <th>Comments Text</th>\n",
       "      <th>Comments_clean</th>\n",
       "    </tr>\n",
       "  </thead>\n",
       "  <tbody>\n",
       "    <tr>\n",
       "      <th>0</th>\n",
       "      <td>So, when you ask what the two illnesses are......</td>\n",
       "      <td>So ask two illness similar tend moodiness inv...</td>\n",
       "    </tr>\n",
       "    <tr>\n",
       "      <th>1</th>\n",
       "      <td>In addition, people with BPD quite often have ...</td>\n",
       "      <td>In addition people BPD quite often weak self ...</td>\n",
       "    </tr>\n",
       "    <tr>\n",
       "      <th>2</th>\n",
       "      <td>Borderline Personality Disorder, like all othe...</td>\n",
       "      <td>Borderline Personality Disorder like personal...</td>\n",
       "    </tr>\n",
       "    <tr>\n",
       "      <th>3</th>\n",
       "      <td>LONG ANSWER: Bipolar disease is caused by a ch...</td>\n",
       "      <td>LONG ANSWER Bipolar disease caused chemical i...</td>\n",
       "    </tr>\n",
       "    <tr>\n",
       "      <th>4</th>\n",
       "      <td>Well think of bipolar as a rollar coaster you ...</td>\n",
       "      <td>Well think bipolar rollar coaster high low pe...</td>\n",
       "    </tr>\n",
       "  </tbody>\n",
       "</table>\n",
       "</div>"
      ],
      "text/plain": [
       "                                       Comments Text  \\\n",
       "0  So, when you ask what the two illnesses are......   \n",
       "1  In addition, people with BPD quite often have ...   \n",
       "2  Borderline Personality Disorder, like all othe...   \n",
       "3  LONG ANSWER: Bipolar disease is caused by a ch...   \n",
       "4  Well think of bipolar as a rollar coaster you ...   \n",
       "\n",
       "                                      Comments_clean  \n",
       "0   So ask two illness similar tend moodiness inv...  \n",
       "1   In addition people BPD quite often weak self ...  \n",
       "2   Borderline Personality Disorder like personal...  \n",
       "3   LONG ANSWER Bipolar disease caused chemical i...  \n",
       "4   Well think bipolar rollar coaster high low pe...  "
      ]
     },
     "execution_count": 14,
     "metadata": {},
     "output_type": "execute_result"
    }
   ],
   "source": [
    "data[\"Comments_clean\"]=data[\"Comments Text\"].apply(remove)\n",
    "data.head()"
   ]
  },
  {
   "cell_type": "code",
   "execution_count": 15,
   "id": "93828c17-decd-4dac-bad5-1b866334c7c7",
   "metadata": {
    "tags": []
   },
   "outputs": [
    {
     "data": {
      "text/plain": [
       "' So ask two illness similar tend moodiness involved impulsivity self damaging behavior compensatory measure Otherwise really similar seem like one another often show person making life chaotic difficult dysfunctional intense So friend concerned may one illness ashamed It definitely fault They instead get help professional INSIST treated appropriately correct type therapy medication'"
      ]
     },
     "execution_count": 15,
     "metadata": {},
     "output_type": "execute_result"
    }
   ],
   "source": [
    "data[\"Comments_clean\"][0]"
   ]
  },
  {
   "cell_type": "code",
   "execution_count": 16,
   "id": "9c983a93-35a3-4c80-9303-4c6ba92d8777",
   "metadata": {
    "tags": []
   },
   "outputs": [
    {
     "data": {
      "text/plain": [
       "(7145, 2)"
      ]
     },
     "execution_count": 16,
     "metadata": {},
     "output_type": "execute_result"
    }
   ],
   "source": [
    "data.shape"
   ]
  },
  {
   "cell_type": "code",
   "execution_count": 17,
   "id": "a416d6ff-d99f-4a8e-bc35-fd643d2ada97",
   "metadata": {
    "tags": []
   },
   "outputs": [],
   "source": [
    "#pip install vaderSentiment"
   ]
  },
  {
   "cell_type": "code",
   "execution_count": 18,
   "id": "4959c5b0-1a77-4ba3-b99c-060273d65273",
   "metadata": {
    "tags": []
   },
   "outputs": [],
   "source": [
    "from vaderSentiment.vaderSentiment import SentimentIntensityAnalyzer"
   ]
  },
  {
   "cell_type": "code",
   "execution_count": 19,
   "id": "f681c38c-53b4-4344-90f5-ed4c7e332a90",
   "metadata": {
    "tags": []
   },
   "outputs": [],
   "source": [
    "vs=SentimentIntensityAnalyzer()"
   ]
  },
  {
   "cell_type": "code",
   "execution_count": 20,
   "id": "cf09794d-8cbc-42d7-af5b-29179450390e",
   "metadata": {
    "tags": []
   },
   "outputs": [
    {
     "data": {
      "text/plain": [
       "'beaming face with smiling eyes'"
      ]
     },
     "execution_count": 20,
     "metadata": {},
     "output_type": "execute_result"
    }
   ],
   "source": [
    "vs.emojis['😁']"
   ]
  },
  {
   "cell_type": "code",
   "execution_count": 21,
   "id": "8e113b91-f947-4171-a0c2-8e7b425b6694",
   "metadata": {
    "tags": []
   },
   "outputs": [
    {
     "data": {
      "text/plain": [
       "{'neg': 0.309, 'neu': 0.586, 'pos': 0.105, 'compound': -0.9905}"
      ]
     },
     "execution_count": 21,
     "metadata": {},
     "output_type": "execute_result"
    }
   ],
   "source": [
    "vs.polarity_scores(data[\"Comments_clean\"][3])"
   ]
  },
  {
   "cell_type": "code",
   "execution_count": 22,
   "id": "5f913f8d-91e6-447f-bcbe-65a6077f67f3",
   "metadata": {
    "tags": []
   },
   "outputs": [],
   "source": [
    "#d=vs.polarity_scores(data['Comments_clean'][3])\n",
    "#d.pop('compound')\n",
    "#d"
   ]
  },
  {
   "cell_type": "code",
   "execution_count": 23,
   "id": "4fff67e5-37b8-40e3-bc0a-0950cc005764",
   "metadata": {},
   "outputs": [],
   "source": [
    "#sorted(d.items(),key=lambda x:x[1],reverse=True)\n"
   ]
  },
  {
   "cell_type": "code",
   "execution_count": 24,
   "id": "01e68404-2bd4-4c7d-a63a-77ec2e8fae7d",
   "metadata": {},
   "outputs": [],
   "source": [
    "##sorted(d.items(),key=lambda x:x[1],reverse=True)[0][0]\n"
   ]
  },
  {
   "cell_type": "code",
   "execution_count": 25,
   "id": "aa57c4cb-aea9-442d-bedf-e2abba7b3d39",
   "metadata": {
    "tags": []
   },
   "outputs": [],
   "source": [
    "#sorted(vs.polarity_scores(data['Comments_clean'][0]),reverse=True)"
   ]
  },
  {
   "cell_type": "code",
   "execution_count": 26,
   "id": "f2a2a897-d0df-465e-99fe-8f8309cd6523",
   "metadata": {
    "tags": []
   },
   "outputs": [],
   "source": [
    "def polarity(sent):\n",
    "    d=vs.polarity_scores(sent)\n",
    "    #d.pop('compound')\n",
    "    #val=sorted(d.items(),key=lambda x:x[1],reverse=True)[0][0]\n",
    "    if d['compound']>0.05:\n",
    "        return \"positive\"\n",
    "    elif d['compound']<-0.05:\n",
    "        return 'negative'\n",
    "    elif -0.05<=d['compound']<=0.05:\n",
    "        return 'neutral'\n",
    "    else:\n",
    "        return 'Check'\n",
    "    \n",
    "    #return val"
   ]
  },
  {
   "cell_type": "code",
   "execution_count": 27,
   "id": "16f5f955-24d2-4bc7-a626-0628e13c5710",
   "metadata": {
    "tags": []
   },
   "outputs": [
    {
     "data": {
      "text/html": [
       "<div>\n",
       "<style scoped>\n",
       "    .dataframe tbody tr th:only-of-type {\n",
       "        vertical-align: middle;\n",
       "    }\n",
       "\n",
       "    .dataframe tbody tr th {\n",
       "        vertical-align: top;\n",
       "    }\n",
       "\n",
       "    .dataframe thead th {\n",
       "        text-align: right;\n",
       "    }\n",
       "</style>\n",
       "<table border=\"1\" class=\"dataframe\">\n",
       "  <thead>\n",
       "    <tr style=\"text-align: right;\">\n",
       "      <th></th>\n",
       "      <th>Comments Text</th>\n",
       "      <th>Comments_clean</th>\n",
       "      <th>Target</th>\n",
       "    </tr>\n",
       "  </thead>\n",
       "  <tbody>\n",
       "    <tr>\n",
       "      <th>0</th>\n",
       "      <td>So, when you ask what the two illnesses are......</td>\n",
       "      <td>So ask two illness similar tend moodiness inv...</td>\n",
       "      <td>negative</td>\n",
       "    </tr>\n",
       "    <tr>\n",
       "      <th>1</th>\n",
       "      <td>In addition, people with BPD quite often have ...</td>\n",
       "      <td>In addition people BPD quite often weak self ...</td>\n",
       "      <td>negative</td>\n",
       "    </tr>\n",
       "    <tr>\n",
       "      <th>2</th>\n",
       "      <td>Borderline Personality Disorder, like all othe...</td>\n",
       "      <td>Borderline Personality Disorder like personal...</td>\n",
       "      <td>negative</td>\n",
       "    </tr>\n",
       "    <tr>\n",
       "      <th>3</th>\n",
       "      <td>LONG ANSWER: Bipolar disease is caused by a ch...</td>\n",
       "      <td>LONG ANSWER Bipolar disease caused chemical i...</td>\n",
       "      <td>negative</td>\n",
       "    </tr>\n",
       "    <tr>\n",
       "      <th>4</th>\n",
       "      <td>Well think of bipolar as a rollar coaster you ...</td>\n",
       "      <td>Well think bipolar rollar coaster high low pe...</td>\n",
       "      <td>negative</td>\n",
       "    </tr>\n",
       "  </tbody>\n",
       "</table>\n",
       "</div>"
      ],
      "text/plain": [
       "                                       Comments Text  \\\n",
       "0  So, when you ask what the two illnesses are......   \n",
       "1  In addition, people with BPD quite often have ...   \n",
       "2  Borderline Personality Disorder, like all othe...   \n",
       "3  LONG ANSWER: Bipolar disease is caused by a ch...   \n",
       "4  Well think of bipolar as a rollar coaster you ...   \n",
       "\n",
       "                                      Comments_clean    Target  \n",
       "0   So ask two illness similar tend moodiness inv...  negative  \n",
       "1   In addition people BPD quite often weak self ...  negative  \n",
       "2   Borderline Personality Disorder like personal...  negative  \n",
       "3   LONG ANSWER Bipolar disease caused chemical i...  negative  \n",
       "4   Well think bipolar rollar coaster high low pe...  negative  "
      ]
     },
     "execution_count": 27,
     "metadata": {},
     "output_type": "execute_result"
    }
   ],
   "source": [
    "data['Target']=data['Comments_clean'].apply(polarity)\n",
    "data.head()"
   ]
  },
  {
   "cell_type": "code",
   "execution_count": 28,
   "id": "a2769002-8074-499b-8677-bd99bafa5605",
   "metadata": {
    "tags": []
   },
   "outputs": [
    {
     "data": {
      "text/plain": [
       "negative    4038\n",
       "positive    2925\n",
       "neutral      182\n",
       "Name: Target, dtype: int64"
      ]
     },
     "execution_count": 28,
     "metadata": {},
     "output_type": "execute_result"
    }
   ],
   "source": [
    "data.Target.value_counts()"
   ]
  },
  {
   "cell_type": "code",
   "execution_count": 29,
   "id": "5cd75d8e-53ea-4559-840a-88c9e4f5fa26",
   "metadata": {
    "tags": []
   },
   "outputs": [
    {
     "data": {
      "text/plain": [
       "<Axes: >"
      ]
     },
     "execution_count": 29,
     "metadata": {},
     "output_type": "execute_result"
    },
    {
     "data": {
      "image/png": "[encoded data removed]",
      "text/plain": [
       "<Figure size 640x480 with 1 Axes>"
      ]
     },
     "metadata": {},
     "output_type": "display_data"
    }
   ],
   "source": [
    "data.Target.value_counts().plot(kind='bar')"
   ]
  },
  {
   "cell_type": "code",
   "execution_count": 30,
   "id": "6fd0f34e-3c4e-4692-8e82-07a5d0b7bfa4",
   "metadata": {
    "tags": []
   },
   "outputs": [],
   "source": [
    "#!pip uninstall seaborn\n",
    "#!pip install seaborn"
   ]
  },
  {
   "cell_type": "code",
   "execution_count": 31,
   "id": "e1a422e7-ea58-436e-8f3e-c2f550cc2806",
   "metadata": {
    "tags": []
   },
   "outputs": [
    {
     "name": "stdout",
     "output_type": "stream",
     "text": [
      "<class 'pandas.core.frame.DataFrame'>\n",
      "RangeIndex: 7145 entries, 0 to 7144\n",
      "Data columns (total 3 columns):\n",
      " #   Column          Non-Null Count  Dtype \n",
      "---  ------          --------------  ----- \n",
      " 0   Comments Text   7145 non-null   object\n",
      " 1   Comments_clean  7145 non-null   object\n",
      " 2   Target          7145 non-null   object\n",
      "dtypes: object(3)\n",
      "memory usage: 167.6+ KB\n"
     ]
    }
   ],
   "source": [
    "data.info()"
   ]
  },
  {
   "cell_type": "code",
   "execution_count": 32,
   "id": "9384e64d-b375-4690-9ceb-cc951177e044",
   "metadata": {
    "tags": []
   },
   "outputs": [],
   "source": [
    "#sns.countplot(data.Target)"
   ]
  },
  {
   "cell_type": "code",
   "execution_count": 33,
   "id": "205124b1-7884-48f9-8c53-19eccde5a706",
   "metadata": {
    "tags": []
   },
   "outputs": [
    {
     "data": {
      "text/plain": [
       "<Axes: >"
      ]
     },
     "execution_count": 33,
     "metadata": {},
     "output_type": "execute_result"
    },
    {
     "data": {
      "image/png": "[encoded data removed]",
      "text/plain": [
       "<Figure size 640x480 with 1 Axes>"
      ]
     },
     "metadata": {},
     "output_type": "display_data"
    }
   ],
   "source": [
    "data.Target.value_counts().plot(kind='bar')"
   ]
  },
  {
   "cell_type": "code",
   "execution_count": 34,
   "id": "34daa456-5070-4829-8fb5-d9996ade635e",
   "metadata": {},
   "outputs": [],
   "source": [
    "#data.to_csv(\"New_7k_clean_data.csv\",index=False)"
   ]
  },
  {
   "cell_type": "markdown",
   "id": "8751dfe7-ec6c-4612-a68c-6f224fef974b",
   "metadata": {},
   "source": [
    "## Machine Learning"
   ]
  },
  {
   "cell_type": "code",
   "execution_count": 35,
   "id": "cbb8cd22-20de-4caa-8823-c9966d9c32f7",
   "metadata": {
    "tags": []
   },
   "outputs": [
    {
     "data": {
      "text/html": [
       "<div>\n",
       "<style scoped>\n",
       "    .dataframe tbody tr th:only-of-type {\n",
       "        vertical-align: middle;\n",
       "    }\n",
       "\n",
       "    .dataframe tbody tr th {\n",
       "        vertical-align: top;\n",
       "    }\n",
       "\n",
       "    .dataframe thead th {\n",
       "        text-align: right;\n",
       "    }\n",
       "</style>\n",
       "<table border=\"1\" class=\"dataframe\">\n",
       "  <thead>\n",
       "    <tr style=\"text-align: right;\">\n",
       "      <th></th>\n",
       "      <th>Comments Text</th>\n",
       "      <th>Comments_clean</th>\n",
       "      <th>Target</th>\n",
       "    </tr>\n",
       "  </thead>\n",
       "  <tbody>\n",
       "    <tr>\n",
       "      <th>0</th>\n",
       "      <td>So, when you ask what the two illnesses are......</td>\n",
       "      <td>So ask two illness similar tend moodiness inv...</td>\n",
       "      <td>negative</td>\n",
       "    </tr>\n",
       "    <tr>\n",
       "      <th>1</th>\n",
       "      <td>In addition, people with BPD quite often have ...</td>\n",
       "      <td>In addition people BPD quite often weak self ...</td>\n",
       "      <td>negative</td>\n",
       "    </tr>\n",
       "    <tr>\n",
       "      <th>2</th>\n",
       "      <td>Borderline Personality Disorder, like all othe...</td>\n",
       "      <td>Borderline Personality Disorder like personal...</td>\n",
       "      <td>negative</td>\n",
       "    </tr>\n",
       "    <tr>\n",
       "      <th>3</th>\n",
       "      <td>LONG ANSWER: Bipolar disease is caused by a ch...</td>\n",
       "      <td>LONG ANSWER Bipolar disease caused chemical i...</td>\n",
       "      <td>negative</td>\n",
       "    </tr>\n",
       "    <tr>\n",
       "      <th>4</th>\n",
       "      <td>Well think of bipolar as a rollar coaster you ...</td>\n",
       "      <td>Well think bipolar rollar coaster high low pe...</td>\n",
       "      <td>negative</td>\n",
       "    </tr>\n",
       "  </tbody>\n",
       "</table>\n",
       "</div>"
      ],
      "text/plain": [
       "                                       Comments Text  \\\n",
       "0  So, when you ask what the two illnesses are......   \n",
       "1  In addition, people with BPD quite often have ...   \n",
       "2  Borderline Personality Disorder, like all othe...   \n",
       "3  LONG ANSWER: Bipolar disease is caused by a ch...   \n",
       "4  Well think of bipolar as a rollar coaster you ...   \n",
       "\n",
       "                                      Comments_clean    Target  \n",
       "0   So ask two illness similar tend moodiness inv...  negative  \n",
       "1   In addition people BPD quite often weak self ...  negative  \n",
       "2   Borderline Personality Disorder like personal...  negative  \n",
       "3   LONG ANSWER Bipolar disease caused chemical i...  negative  \n",
       "4   Well think bipolar rollar coaster high low pe...  negative  "
      ]
     },
     "execution_count": 35,
     "metadata": {},
     "output_type": "execute_result"
    }
   ],
   "source": [
    "data_new=pd.read_csv('New_7k_clean_data.csv')\n",
    "data_new.head()"
   ]
  },
  {
   "cell_type": "code",
   "execution_count": 36,
   "id": "532dfde6-d9da-41e4-9ada-f91015a7ab61",
   "metadata": {
    "tags": []
   },
   "outputs": [],
   "source": [
    "#sns.countplot(data_new.Target)"
   ]
  },
  {
   "cell_type": "code",
   "execution_count": 37,
   "id": "6644d3bc-1f46-4ea0-8c5c-184e334885e3",
   "metadata": {
    "tags": []
   },
   "outputs": [],
   "source": [
    "data_new.drop(columns='Comments Text', inplace=True)"
   ]
  },
  {
   "cell_type": "code",
   "execution_count": 38,
   "id": "6a59e70a-2297-4361-a261-b307cddfa53a",
   "metadata": {
    "tags": []
   },
   "outputs": [],
   "source": [
    "from sklearn.feature_extraction.text import CountVectorizer  # vector made from word counts. Convert data for machine learning\n"
   ]
  },
  {
   "cell_type": "code",
   "execution_count": 39,
   "id": "3f6fa443-aca8-4b88-be4b-20c211b12df7",
   "metadata": {
    "tags": []
   },
   "outputs": [],
   "source": [
    "cv=CountVectorizer(lowercase=True)      #,stop_words=True --- returns boolean expression"
   ]
  },
  {
   "cell_type": "code",
   "execution_count": 40,
   "id": "96a99a82-a06b-436a-8c6e-9baafaec0107",
   "metadata": {
    "tags": []
   },
   "outputs": [
    {
     "data": {
      "text/plain": [
       "(7145, 13211)"
      ]
     },
     "execution_count": 40,
     "metadata": {},
     "output_type": "execute_result"
    }
   ],
   "source": [
    "data_array=cv.fit_transform(data_new.Comments_clean).toarray()\n",
    "data_array.shape"
   ]
  },
  {
   "cell_type": "code",
   "execution_count": 41,
   "id": "5eff8abd-c6db-46fd-9448-25c2225c70bc",
   "metadata": {
    "tags": []
   },
   "outputs": [
    {
     "data": {
      "text/plain": [
       "array([0, 0, 0, ..., 0, 0, 0], dtype=int64)"
      ]
     },
     "execution_count": 41,
     "metadata": {},
     "output_type": "execute_result"
    }
   ],
   "source": [
    "data_array[0]"
   ]
  },
  {
   "cell_type": "code",
   "execution_count": 42,
   "id": "323bfa70-f397-4102-917f-e82a3033575c",
   "metadata": {
    "tags": []
   },
   "outputs": [],
   "source": [
    "import numpy as np"
   ]
  },
  {
   "cell_type": "code",
   "execution_count": 43,
   "id": "e7180f12-0a6a-4c1b-b19e-3fad5410c080",
   "metadata": {
    "tags": []
   },
   "outputs": [
    {
     "data": {
      "text/plain": [
       "array([0, 1, 2], dtype=int64)"
      ]
     },
     "execution_count": 43,
     "metadata": {},
     "output_type": "execute_result"
    }
   ],
   "source": [
    "np.unique(data_array[0])"
   ]
  },
  {
   "cell_type": "code",
   "execution_count": 44,
   "id": "9ccc6ed5-9285-4c26-82ea-369df9ac9617",
   "metadata": {
    "tags": []
   },
   "outputs": [
    {
     "name": "stdout",
     "output_type": "stream",
     "text": [
      "[0 1 2]\n",
      "[0 1 2 3 4 5 6 7]\n",
      "[ 0  1  2  3  4  5  6  7  8 11]\n",
      "[0 1 2 3 4]\n",
      "[0 1 2]\n",
      "[0 1]\n",
      "[0 1 2 4]\n",
      "[0 1]\n",
      "[0 1 2 3 4 5]\n",
      "[0 1 2 3]\n"
     ]
    }
   ],
   "source": [
    "for i in range(10):     # will count max unique for RNN\n",
    "    print(np.unique(data_array[i]))"
   ]
  },
  {
   "cell_type": "code",
   "execution_count": 45,
   "id": "1ad45673-6d21-424e-96f6-88137d09843b",
   "metadata": {
    "tags": []
   },
   "outputs": [],
   "source": [
    "from sklearn.ensemble import RandomForestClassifier\n",
    "from sklearn.model_selection import train_test_split\n",
    "from sklearn.metrics import confusion_matrix, accuracy_score,classification_report"
   ]
  },
  {
   "cell_type": "code",
   "execution_count": 46,
   "id": "ccd9db0a-db17-4c85-be14-d6b5863e349e",
   "metadata": {
    "tags": []
   },
   "outputs": [],
   "source": [
    "x,x_test,y, y_test=train_test_split(data_array,data_new.Target,random_state=42,test_size=0.1)"
   ]
  },
  {
   "cell_type": "code",
   "execution_count": 47,
   "id": "5240196e-89f9-40b8-b054-a5940222b963",
   "metadata": {
    "tags": []
   },
   "outputs": [
    {
     "data": {
      "text/plain": [
       "(6430, 13211)"
      ]
     },
     "execution_count": 47,
     "metadata": {},
     "output_type": "execute_result"
    }
   ],
   "source": [
    "x.shape"
   ]
  },
  {
   "cell_type": "code",
   "execution_count": 48,
   "id": "086229f3-b7f4-4012-a709-5c1e06a72617",
   "metadata": {
    "tags": []
   },
   "outputs": [
    {
     "data": {
      "text/plain": [
       "(715, 13211)"
      ]
     },
     "execution_count": 48,
     "metadata": {},
     "output_type": "execute_result"
    }
   ],
   "source": [
    "x_test.shape"
   ]
  },
  {
   "cell_type": "code",
   "execution_count": 49,
   "id": "acf9a9e6-be3a-4f9d-a6e6-2d674e38bdb2",
   "metadata": {
    "tags": []
   },
   "outputs": [],
   "source": [
    "rf=RandomForestClassifier()"
   ]
  },
  {
   "cell_type": "code",
   "execution_count": 50,
   "id": "cdda3ccd-35f5-4cd3-ac42-8d43b1103b58",
   "metadata": {
    "tags": []
   },
   "outputs": [
    {
     "data": {
      "text/html": [
       "<style>#sk-container-id-1 {color: black;background-color: white;}#sk-container-id-1 pre{padding: 0;}#sk-container-id-1 div.sk-toggleable {background-color: white;}#sk-container-id-1 label.sk-toggleable__label {cursor: pointer;display: block;width: 100%;margin-bottom: 0;padding: 0.3em;box-sizing: border-box;text-align: center;}#sk-container-id-1 label.sk-toggleable__label-arrow:before {content: \"▸\";float: left;margin-right: 0.25em;color: #696969;}#sk-container-id-1 label.sk-toggleable__label-arrow:hover:before {color: black;}#sk-container-id-1 div.sk-estimator:hover label.sk-toggleable__label-arrow:before {color: black;}#sk-container-id-1 div.sk-toggleable__content {max-height: 0;max-width: 0;overflow: hidden;text-align: left;background-color: #f0f8ff;}#sk-container-id-1 div.sk-toggleable__content pre {margin: 0.2em;color: black;border-radius: 0.25em;background-color: #f0f8ff;}#sk-container-id-1 input.sk-toggleable__control:checked~div.sk-toggleable__content {max-height: 200px;max-width: 100%;overflow: auto;}#sk-container-id-1 input.sk-toggleable__control:checked~label.sk-toggleable__label-arrow:before {content: \"▾\";}#sk-container-id-1 div.sk-estimator input.sk-toggleable__control:checked~label.sk-toggleable__label {background-color: #d4ebff;}#sk-container-id-1 div.sk-label input.sk-toggleable__control:checked~label.sk-toggleable__label {background-color: #d4ebff;}#sk-container-id-1 input.sk-hidden--visually {border: 0;clip: rect(1px 1px 1px 1px);clip: rect(1px, 1px, 1px, 1px);height: 1px;margin: -1px;overflow: hidden;padding: 0;position: absolute;width: 1px;}#sk-container-id-1 div.sk-estimator {font-family: monospace;background-color: #f0f8ff;border: 1px dotted black;border-radius: 0.25em;box-sizing: border-box;margin-bottom: 0.5em;}#sk-container-id-1 div.sk-estimator:hover {background-color: #d4ebff;}#sk-container-id-1 div.sk-parallel-item::after {content: \"\";width: 100%;border-bottom: 1px solid gray;flex-grow: 1;}#sk-container-id-1 div.sk-label:hover label.sk-toggleable__label {background-color: #d4ebff;}#sk-container-id-1 div.sk-serial::before {content: \"\";position: absolute;border-left: 1px solid gray;box-sizing: border-box;top: 0;bottom: 0;left: 50%;z-index: 0;}#sk-container-id-1 div.sk-serial {display: flex;flex-direction: column;align-items: center;background-color: white;padding-right: 0.2em;padding-left: 0.2em;position: relative;}#sk-container-id-1 div.sk-item {position: relative;z-index: 1;}#sk-container-id-1 div.sk-parallel {display: flex;align-items: stretch;justify-content: center;background-color: white;position: relative;}#sk-container-id-1 div.sk-item::before, #sk-container-id-1 div.sk-parallel-item::before {content: \"\";position: absolute;border-left: 1px solid gray;box-sizing: border-box;top: 0;bottom: 0;left: 50%;z-index: -1;}#sk-container-id-1 div.sk-parallel-item {display: flex;flex-direction: column;z-index: 1;position: relative;background-color: white;}#sk-container-id-1 div.sk-parallel-item:first-child::after {align-self: flex-end;width: 50%;}#sk-container-id-1 div.sk-parallel-item:last-child::after {align-self: flex-start;width: 50%;}#sk-container-id-1 div.sk-parallel-item:only-child::after {width: 0;}#sk-container-id-1 div.sk-dashed-wrapped {border: 1px dashed gray;margin: 0 0.4em 0.5em 0.4em;box-sizing: border-box;padding-bottom: 0.4em;background-color: white;}#sk-container-id-1 div.sk-label label {font-family: monospace;font-weight: bold;display: inline-block;line-height: 1.2em;}#sk-container-id-1 div.sk-label-container {text-align: center;}#sk-container-id-1 div.sk-container {/* jupyter's `normalize.less` sets `[hidden] { display: none; }` but bootstrap.min.css set `[hidden] { display: none !important; }` so we also need the `!important` here to be able to override the default hidden behavior on the sphinx rendered scikit-learn.org. See: https://github.com/scikit-learn/scikit-learn/issues/21755 */display: inline-block !important;position: relative;}#sk-container-id-1 div.sk-text-repr-fallback {display: none;}</style><div id=\"sk-container-id-1\" class=\"sk-top-container\"><div class=\"sk-text-repr-fallback\"><pre>RandomForestClassifier()</pre><b>In a Jupyter environment, please rerun this cell to show the HTML representation or trust the notebook. <br />On GitHub, the HTML representation is unable to render, please try loading this page with nbviewer.org.</b></div><div class=\"sk-container\" hidden><div class=\"sk-item\"><div class=\"sk-estimator sk-toggleable\"><input class=\"sk-toggleable__control sk-hidden--visually\" id=\"sk-estimator-id-1\" type=\"checkbox\" checked><label for=\"sk-estimator-id-1\" class=\"sk-toggleable__label sk-toggleable__label-arrow\">RandomForestClassifier</label><div class=\"sk-toggleable__content\"><pre>RandomForestClassifier()</pre></div></div></div></div></div>"
      ],
      "text/plain": [
       "RandomForestClassifier()"
      ]
     },
     "execution_count": 50,
     "metadata": {},
     "output_type": "execute_result"
    }
   ],
   "source": [
    "rf.fit(x,y)    #takes time ~2 minutes"
   ]
  },
  {
   "cell_type": "code",
   "execution_count": 51,
   "id": "002516bf-7cc1-43f6-ab3e-44aade87ced0",
   "metadata": {
    "tags": []
   },
   "outputs": [],
   "source": [
    "pred=rf.predict(x_test)"
   ]
  },
  {
   "cell_type": "code",
   "execution_count": 52,
   "id": "a5e886be-3fa3-4475-89fc-542fae25c7d7",
   "metadata": {
    "tags": []
   },
   "outputs": [
    {
     "data": {
      "text/plain": [
       "76.08391608391608"
      ]
     },
     "execution_count": 52,
     "metadata": {},
     "output_type": "execute_result"
    }
   ],
   "source": [
    "accuracy_score(y_test,pred)*100"
   ]
  },
  {
   "cell_type": "code",
   "execution_count": 53,
   "id": "c2c7d34c-8178-41ae-b089-e349fbf2d412",
   "metadata": {
    "tags": []
   },
   "outputs": [
    {
     "name": "stdout",
     "output_type": "stream",
     "text": [
      "              precision    recall  f1-score   support\n",
      "\n",
      "    negative       0.78      0.84      0.81       407\n",
      "     neutral       0.50      0.10      0.16        21\n",
      "    positive       0.73      0.70      0.72       287\n",
      "\n",
      "    accuracy                           0.76       715\n",
      "   macro avg       0.67      0.54      0.56       715\n",
      "weighted avg       0.75      0.76      0.75       715\n",
      "\n"
     ]
    }
   ],
   "source": [
    "print(classification_report(y_test,pred))"
   ]
  },
  {
   "cell_type": "code",
   "execution_count": 54,
   "id": "3dad055c-4107-4123-9682-7e810c9d8bf2",
   "metadata": {
    "tags": []
   },
   "outputs": [
    {
     "data": {
      "text/plain": [
       "array([[341,   1,  65],\n",
       "       [ 11,   2,   8],\n",
       "       [ 85,   1, 201]], dtype=int64)"
      ]
     },
     "execution_count": 54,
     "metadata": {},
     "output_type": "execute_result"
    }
   ],
   "source": [
    "confusion_matrix(y_test,pred)"
   ]
  },
  {
   "cell_type": "markdown",
   "id": "4bb1cfed-9b8a-4144-ae89-e1c555ab1f37",
   "metadata": {},
   "source": [
    "# RNN"
   ]
  },
  {
   "cell_type": "code",
   "execution_count": 55,
   "id": "e32e9f40-ca2f-4094-9078-d38a1f60c40c",
   "metadata": {
    "tags": []
   },
   "outputs": [
    {
     "data": {
      "text/html": [
       "<div>\n",
       "<style scoped>\n",
       "    .dataframe tbody tr th:only-of-type {\n",
       "        vertical-align: middle;\n",
       "    }\n",
       "\n",
       "    .dataframe tbody tr th {\n",
       "        vertical-align: top;\n",
       "    }\n",
       "\n",
       "    .dataframe thead th {\n",
       "        text-align: right;\n",
       "    }\n",
       "</style>\n",
       "<table border=\"1\" class=\"dataframe\">\n",
       "  <thead>\n",
       "    <tr style=\"text-align: right;\">\n",
       "      <th></th>\n",
       "      <th>Comments_clean</th>\n",
       "      <th>Target</th>\n",
       "    </tr>\n",
       "  </thead>\n",
       "  <tbody>\n",
       "    <tr>\n",
       "      <th>0</th>\n",
       "      <td>So ask two illness similar tend moodiness inv...</td>\n",
       "      <td>negative</td>\n",
       "    </tr>\n",
       "    <tr>\n",
       "      <th>1</th>\n",
       "      <td>In addition people BPD quite often weak self ...</td>\n",
       "      <td>negative</td>\n",
       "    </tr>\n",
       "    <tr>\n",
       "      <th>2</th>\n",
       "      <td>Borderline Personality Disorder like personal...</td>\n",
       "      <td>negative</td>\n",
       "    </tr>\n",
       "    <tr>\n",
       "      <th>3</th>\n",
       "      <td>LONG ANSWER Bipolar disease caused chemical i...</td>\n",
       "      <td>negative</td>\n",
       "    </tr>\n",
       "    <tr>\n",
       "      <th>4</th>\n",
       "      <td>Well think bipolar rollar coaster high low pe...</td>\n",
       "      <td>negative</td>\n",
       "    </tr>\n",
       "  </tbody>\n",
       "</table>\n",
       "</div>"
      ],
      "text/plain": [
       "                                      Comments_clean    Target\n",
       "0   So ask two illness similar tend moodiness inv...  negative\n",
       "1   In addition people BPD quite often weak self ...  negative\n",
       "2   Borderline Personality Disorder like personal...  negative\n",
       "3   LONG ANSWER Bipolar disease caused chemical i...  negative\n",
       "4   Well think bipolar rollar coaster high low pe...  negative"
      ]
     },
     "execution_count": 55,
     "metadata": {},
     "output_type": "execute_result"
    }
   ],
   "source": [
    "# tokenization\n",
    "data_new.head()"
   ]
  },
  {
   "cell_type": "code",
   "execution_count": 56,
   "id": "2fa9312c-4b52-4df4-b4bd-41906192a311",
   "metadata": {
    "tags": []
   },
   "outputs": [],
   "source": [
    "from tensorflow.keras.models import Sequential\n",
    "from tensorflow.keras.preprocessing.sequence import pad_sequences\n",
    "from tensorflow.keras.preprocessing.text import Tokenizer\n",
    "from tensorflow.keras import layers"
   ]
  },
  {
   "cell_type": "markdown",
   "id": "4fa8726a-9b1b-4cbb-b54c-852197562b59",
   "metadata": {},
   "source": [
    "Tokenizer will use only three most common words at the same time. It will keep the counter of all words - even when it'sobvious that it will not use it later."
   ]
  },
  {
   "cell_type": "code",
   "execution_count": 57,
   "id": "b86d736c-3efd-4bd3-a761-0c02489cd11f",
   "metadata": {
    "tags": []
   },
   "outputs": [
    {
     "name": "stdout",
     "output_type": "stream",
     "text": [
      "271614\n",
      "word_set= 16066\n",
      "Max Len= 4415\n"
     ]
    }
   ],
   "source": [
    "word_list=[]\n",
    "max_len=0\n",
    "for sent in data_new.Comments_clean:\n",
    "    word_list.extend(sent.split())\n",
    "    if max_len<len(sent):\n",
    "        max_len=len(sent)\n",
    "        \n",
    "print(len(word_list))\n",
    "word_set=set(word_list)\n",
    "print(\"word_set=\",len(word_set))\n",
    "print(f\"Max Len= {max_len}\")"
   ]
  },
  {
   "cell_type": "code",
   "execution_count": 58,
   "id": "4c1fc6b1-0cc8-491a-be17-7ce08316f781",
   "metadata": {
    "tags": []
   },
   "outputs": [],
   "source": [
    "token=Tokenizer(num_words=66,            # don't use this len(word_set)   \n",
    "               oov_token='[oov]')             "
   ]
  },
  {
   "cell_type": "code",
   "execution_count": 59,
   "id": "b1b5863e-7c5b-45f3-a7f8-8b21ace1bd98",
   "metadata": {
    "tags": []
   },
   "outputs": [],
   "source": [
    "X,Xtest,Y,Ytest = train_test_split(data_new.Comments_clean[:20],\n",
    "                                  data_new.Target[:20],\n",
    "                                  test_size=0.1,\n",
    "                                  random_state=42)"
   ]
  },
  {
   "cell_type": "code",
   "execution_count": 60,
   "id": "9ed980a1-a963-4be6-9725-5ac647bc1590",
   "metadata": {
    "tags": []
   },
   "outputs": [],
   "source": [
    "token.fit_on_texts(list(X))"
   ]
  },
  {
   "cell_type": "code",
   "execution_count": 61,
   "id": "628593c6-45b8-42f9-b8e2-6ccc5ce30692",
   "metadata": {
    "tags": []
   },
   "outputs": [
    {
     "data": {
      "text/plain": [
       "65"
      ]
     },
     "execution_count": 61,
     "metadata": {},
     "output_type": "execute_result"
    }
   ],
   "source": [
    "token.word_counts['i']"
   ]
  },
  {
   "cell_type": "code",
   "execution_count": 62,
   "id": "4e99bb06-0c59-4e8d-a24c-d39abd614e19",
   "metadata": {
    "tags": []
   },
   "outputs": [],
   "source": [
    "training=token.texts_to_sequences(X)"
   ]
  },
  {
   "cell_type": "raw",
   "id": "ce16fcdb-0a25-4159-b285-dfcf0b3b9fa8",
   "metadata": {
    "tags": []
   },
   "source": []
  },
  {
   "cell_type": "code",
   "execution_count": 63,
   "id": "575c19cb-eb47-4e6a-896b-60bf1df48a6c",
   "metadata": {
    "tags": []
   },
   "outputs": [],
   "source": [
    "train_pad=pad_sequences(training, \n",
    "                        maxlen=max_len,\n",
    "                        padding='post',\n",
    "                       truncating='post')"
   ]
  },
  {
   "cell_type": "code",
   "execution_count": 64,
   "id": "ff55b434-664e-4f27-8101-1569ed9c8905",
   "metadata": {
    "tags": []
   },
   "outputs": [],
   "source": [
    "X_test=token.texts_to_sequences(Xtest)\n",
    "test_pad=pad_sequences(X_test,\n",
    "                      maxlen=max_len,\n",
    "                      padding='post',\n",
    "                      truncating='post')"
   ]
  },
  {
   "cell_type": "code",
   "execution_count": 65,
   "id": "cf4d9104-fef6-441d-9e99-1e6dad061425",
   "metadata": {
    "tags": []
   },
   "outputs": [
    {
     "data": {
      "text/plain": [
       "array([[ 1,  1,  6, ...,  0,  0,  0],\n",
       "       [ 1,  1,  4, ...,  0,  0,  0],\n",
       "       [ 2, 24, 12, ...,  0,  0,  0],\n",
       "       ...,\n",
       "       [ 1,  2,  1, ...,  0,  0,  0],\n",
       "       [ 1,  2,  1, ...,  0,  0,  0],\n",
       "       [ 1,  2, 24, ...,  0,  0,  0]])"
      ]
     },
     "execution_count": 65,
     "metadata": {},
     "output_type": "execute_result"
    }
   ],
   "source": [
    "train_pad"
   ]
  },
  {
   "cell_type": "code",
   "execution_count": 66,
   "id": "308fa370-026f-44ca-8887-bc01302ae5b6",
   "metadata": {
    "tags": []
   },
   "outputs": [],
   "source": [
    "f=set('hello hi')\n",
    "f.update('qwert')"
   ]
  },
  {
   "cell_type": "code",
   "execution_count": 67,
   "id": "ddcd3bca-eb11-4aa8-8f94-0178088043e3",
   "metadata": {
    "tags": []
   },
   "outputs": [
    {
     "data": {
      "text/plain": [
       "{' ', 'e', 'h', 'i', 'l', 'o', 'q', 'r', 't', 'w'}"
      ]
     },
     "execution_count": 67,
     "metadata": {},
     "output_type": "execute_result"
    }
   ],
   "source": [
    "f"
   ]
  },
  {
   "cell_type": "code",
   "execution_count": 68,
   "id": "2c1aec12-7b88-4b05-9123-6d4b5672ed54",
   "metadata": {
    "tags": []
   },
   "outputs": [
    {
     "name": "stdout",
     "output_type": "stream",
     "text": [
      "59\n"
     ]
    }
   ],
   "source": [
    "wordset=set()\n",
    "for sent in data_new.Comments_clean:\n",
    "    wordset.update(sent)\n",
    "print(len(wordset))"
   ]
  },
  {
   "cell_type": "code",
   "execution_count": 69,
   "id": "813d2c65-2160-4845-a595-310671ad7dd3",
   "metadata": {
    "tags": []
   },
   "outputs": [
    {
     "data": {
      "text/plain": [
       "4415"
      ]
     },
     "execution_count": 69,
     "metadata": {},
     "output_type": "execute_result"
    }
   ],
   "source": [
    "max_len"
   ]
  },
  {
   "cell_type": "code",
   "execution_count": 70,
   "id": "02d3a1e3-2fb7-4b42-8914-ec3d626b7db2",
   "metadata": {
    "tags": []
   },
   "outputs": [
    {
     "data": {
      "text/plain": [
       "(18, 4415)"
      ]
     },
     "execution_count": 70,
     "metadata": {},
     "output_type": "execute_result"
    }
   ],
   "source": [
    "train_pad.shape"
   ]
  },
  {
   "cell_type": "code",
   "execution_count": 71,
   "id": "8a39d1ca-1a51-4232-9be2-d23700151195",
   "metadata": {
    "tags": []
   },
   "outputs": [
    {
     "data": {
      "text/plain": [
       "4415"
      ]
     },
     "execution_count": 71,
     "metadata": {},
     "output_type": "execute_result"
    }
   ],
   "source": [
    "max_len"
   ]
  },
  {
   "cell_type": "code",
   "execution_count": 72,
   "id": "a5b0c1d7-0196-48bc-93b1-e90cdf5432b0",
   "metadata": {
    "tags": []
   },
   "outputs": [],
   "source": [
    "model=Sequential()"
   ]
  },
  {
   "cell_type": "code",
   "execution_count": 73,
   "id": "8fbe4ede-e1e0-4c1f-80d9-c1f4da7749fe",
   "metadata": {
    "tags": []
   },
   "outputs": [],
   "source": [
    "model.add(layers.Embedding(100,300,input_length=max_len))\n",
    "model.add(layers.Bidirectional(layers.LSTM(50,return_sequences=True)))\n",
    "model.add(layers.Bidirectional(layers.LSTM(10,return_sequences=False)))\n",
    "model.add(layers.Dense(20,activation='relu'))\n",
    "model.add(layers.Dense(3,activation='softmax'))"
   ]
  },
  {
   "cell_type": "code",
   "execution_count": 74,
   "id": "7a32ef14-8b6d-4d96-9e81-b84c7a5d0503",
   "metadata": {
    "tags": []
   },
   "outputs": [],
   "source": [
    "model.compile(loss='categorical_crossentropy',\n",
    "             metrics=['accuracy'])   #  activation default"
   ]
  },
  {
   "cell_type": "code",
   "execution_count": 75,
   "id": "049275fb-eb41-4e47-8c76-ad587b836552",
   "metadata": {
    "tags": []
   },
   "outputs": [
    {
     "name": "stdout",
     "output_type": "stream",
     "text": [
      "Model: \"sequential\"\n",
      "_________________________________________________________________\n",
      " Layer (type)                Output Shape              Param #   \n",
      "=================================================================\n",
      " embedding (Embedding)       (None, 4415, 300)         30000     \n",
      "                                                                 \n",
      " bidirectional (Bidirectiona  (None, 4415, 100)        140400    \n",
      " l)                                                              \n",
      "                                                                 \n",
      " bidirectional_1 (Bidirectio  (None, 20)               8880      \n",
      " nal)                                                            \n",
      "                                                                 \n",
      " dense (Dense)               (None, 20)                420       \n",
      "                                                                 \n",
      " dense_1 (Dense)             (None, 3)                 63        \n",
      "                                                                 \n",
      "=================================================================\n",
      "Total params: 179,763\n",
      "Trainable params: 179,763\n",
      "Non-trainable params: 0\n",
      "_________________________________________________________________\n"
     ]
    }
   ],
   "source": [
    "model.summary()"
   ]
  },
  {
   "cell_type": "code",
   "execution_count": 76,
   "id": "f0885d42-2f1f-4504-9f85-1e9b6d336c2b",
   "metadata": {
    "tags": []
   },
   "outputs": [],
   "source": [
    "from tensorflow.keras.utils import to_categorical"
   ]
  },
  {
   "cell_type": "code",
   "execution_count": 77,
   "id": "64e24aac-8268-4408-b864-ce77ddd995ac",
   "metadata": {
    "tags": []
   },
   "outputs": [],
   "source": [
    "Y=Y.apply(lambda x:1 if x=='positive' else 0 if x=='negative' else 2)\n",
    "Ytest=Ytest.apply(lambda x:1 if x=='positive'else 0 if x=='negative' else 2)"
   ]
  },
  {
   "cell_type": "code",
   "execution_count": 78,
   "id": "b186653d-fcda-4bd0-bf90-e743f2a39bdd",
   "metadata": {
    "tags": []
   },
   "outputs": [
    {
     "data": {
      "text/plain": [
       "15    0\n",
       "1     0\n",
       "8     1\n",
       "5     1\n",
       "11    1\n",
       "3     0\n",
       "18    0\n",
       "16    1\n",
       "13    0\n",
       "2     0\n",
       "9     1\n",
       "19    0\n",
       "4     0\n",
       "12    0\n",
       "7     0\n",
       "10    0\n",
       "14    0\n",
       "6     1\n",
       "Name: Target, dtype: int64"
      ]
     },
     "execution_count": 78,
     "metadata": {},
     "output_type": "execute_result"
    }
   ],
   "source": [
    "Y"
   ]
  },
  {
   "cell_type": "code",
   "execution_count": 79,
   "id": "bc14ff9a-eced-4d6e-8887-8fd9d02bc4bd",
   "metadata": {
    "tags": []
   },
   "outputs": [],
   "source": [
    "Ycat=to_categorical(Y,3)\n",
    "YtestCat=to_categorical(Ytest,3)"
   ]
  },
  {
   "cell_type": "code",
   "execution_count": 80,
   "id": "6ac876e2-2663-49b6-9b2d-dd4d23f429cd",
   "metadata": {
    "tags": []
   },
   "outputs": [
    {
     "data": {
      "text/plain": [
       "array([[1., 0., 0.],\n",
       "       [1., 0., 0.],\n",
       "       [0., 1., 0.],\n",
       "       [0., 1., 0.],\n",
       "       [0., 1., 0.],\n",
       "       [1., 0., 0.],\n",
       "       [1., 0., 0.],\n",
       "       [0., 1., 0.],\n",
       "       [1., 0., 0.],\n",
       "       [1., 0., 0.],\n",
       "       [0., 1., 0.],\n",
       "       [1., 0., 0.],\n",
       "       [1., 0., 0.],\n",
       "       [1., 0., 0.],\n",
       "       [1., 0., 0.],\n",
       "       [1., 0., 0.],\n",
       "       [1., 0., 0.],\n",
       "       [0., 1., 0.]], dtype=float32)"
      ]
     },
     "execution_count": 80,
     "metadata": {},
     "output_type": "execute_result"
    }
   ],
   "source": [
    "Ycat"
   ]
  },
  {
   "cell_type": "code",
   "execution_count": 81,
   "id": "3475e223-c064-4726-a17f-58ee5cb18a2a",
   "metadata": {
    "tags": []
   },
   "outputs": [
    {
     "data": {
      "text/plain": [
       "(2, 3)"
      ]
     },
     "execution_count": 81,
     "metadata": {},
     "output_type": "execute_result"
    }
   ],
   "source": [
    "YtestCat.shape"
   ]
  },
  {
   "cell_type": "code",
   "execution_count": 82,
   "id": "1b844bc7-be99-4110-8661-aff6b3aa0678",
   "metadata": {
    "tags": []
   },
   "outputs": [
    {
     "data": {
      "text/plain": [
       "(18, 3)"
      ]
     },
     "execution_count": 82,
     "metadata": {},
     "output_type": "execute_result"
    }
   ],
   "source": [
    "Ycat.shape"
   ]
  },
  {
   "cell_type": "code",
   "execution_count": 83,
   "id": "03f808bf-3399-4445-9b53-d9ca0e5a08cb",
   "metadata": {
    "tags": []
   },
   "outputs": [
    {
     "data": {
      "text/plain": [
       "(18, 4415)"
      ]
     },
     "execution_count": 83,
     "metadata": {},
     "output_type": "execute_result"
    }
   ],
   "source": [
    "train_pad.shape"
   ]
  },
  {
   "cell_type": "code",
   "execution_count": 84,
   "id": "696bb5d1-a80f-4c2c-b465-894804a48578",
   "metadata": {
    "tags": []
   },
   "outputs": [
    {
     "data": {
      "text/plain": [
       "(2, 4415)"
      ]
     },
     "execution_count": 84,
     "metadata": {},
     "output_type": "execute_result"
    }
   ],
   "source": [
    "test_pad.shape"
   ]
  },
  {
   "cell_type": "code",
   "execution_count": 85,
   "id": "1083d88b-d69e-4534-bec5-f275bfe8ad2d",
   "metadata": {
    "tags": []
   },
   "outputs": [
    {
     "data": {
      "text/plain": [
       "numpy.ndarray"
      ]
     },
     "execution_count": 85,
     "metadata": {},
     "output_type": "execute_result"
    }
   ],
   "source": [
    "type(train_pad)"
   ]
  },
  {
   "cell_type": "code",
   "execution_count": 86,
   "id": "b3caccee-11a6-41d1-bca5-40c78fad1d66",
   "metadata": {
    "tags": []
   },
   "outputs": [
    {
     "name": "stdout",
     "output_type": "stream",
     "text": [
      "Epoch 1/5\n",
      "1/1 [==============================] - 17s 17s/step - loss: 1.0992 - accuracy: 0.3889 - val_loss: 1.0506 - val_accuracy: 0.5000\n",
      "Epoch 2/5\n",
      "1/1 [==============================] - 11s 11s/step - loss: 1.0131 - accuracy: 0.6667 - val_loss: 1.0093 - val_accuracy: 0.5000\n",
      "Epoch 3/5\n",
      "1/1 [==============================] - 16s 16s/step - loss: 0.9453 - accuracy: 0.6667 - val_loss: 0.9738 - val_accuracy: 0.5000\n",
      "Epoch 4/5\n",
      "1/1 [==============================] - 17s 17s/step - loss: 0.8936 - accuracy: 0.6667 - val_loss: 0.9384 - val_accuracy: 0.5000\n",
      "Epoch 5/5\n",
      "1/1 [==============================] - 17s 17s/step - loss: 0.8414 - accuracy: 0.6667 - val_loss: 0.9098 - val_accuracy: 0.5000\n"
     ]
    },
    {
     "data": {
      "text/plain": [
       "<keras.callbacks.History at 0x259301db550>"
      ]
     },
     "execution_count": 86,
     "metadata": {},
     "output_type": "execute_result"
    }
   ],
   "source": [
    "model.fit(train_pad,Ycat,validation_data=(test_pad,YtestCat),epochs=5)"
   ]
  },
  {
   "cell_type": "code",
   "execution_count": null,
   "id": "7e8e4834-93fc-48e8-b65a-81b18ee9244b",
   "metadata": {},
   "outputs": [],
   "source": []
  },
  {
   "cell_type": "code",
   "execution_count": null,
   "id": "9f51443b-8735-4709-a7ec-1ec7b69f181e",
   "metadata": {},
   "outputs": [],
   "source": []
  },
  {
   "cell_type": "code",
   "execution_count": null,
   "id": "8c2b168b-91e1-4820-9165-97d99cb59b16",
   "metadata": {},
   "outputs": [],
   "source": []
  }
 ],
 "metadata": {
  "kernelspec": {
   "display_name": "Python 3 (ipykernel)",
   "language": "python",
   "name": "python3"
  },
  "language_info": {
   "codemirror_mode": {
    "name": "ipython",
    "version": 3
   },
   "file_extension": ".py",
   "mimetype": "text/x-python",
   "name": "python",
   "nbconvert_exporter": "python",
   "pygments_lexer": "ipython3",
   "version": "3.11.1"
  }
 },
 "nbformat": 4,
 "nbformat_minor": 5
}
